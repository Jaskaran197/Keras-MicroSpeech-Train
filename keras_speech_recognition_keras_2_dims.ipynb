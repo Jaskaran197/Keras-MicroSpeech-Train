{
 "cells": [
  {
   "cell_type": "code",
   "execution_count": 1,
   "metadata": {},
   "outputs": [],
   "source": [
    "import os\n",
    "import pathlib\n",
    "\n",
    "import matplotlib.pyplot as plt\n",
    "import numpy as np\n",
    "import seaborn as sns\n",
    "import tensorflow as tf\n",
    "\n",
    "from tensorflow.keras.layers.experimental import preprocessing\n",
    "from tensorflow.keras import layers\n",
    "from tensorflow.keras import models\n",
    "from IPython import display\n",
    "\n",
    "\n",
    "# Set seed for experiment reproducibility\n",
    "seed = 42\n",
    "tf.random.set_seed(seed)\n",
    "np.random.seed(seed)"
   ]
  },
  {
   "cell_type": "code",
   "execution_count": null,
   "metadata": {},
   "outputs": [],
   "source": []
  },
  {
   "cell_type": "code",
   "execution_count": 2,
   "metadata": {},
   "outputs": [],
   "source": [
    "from __future__ import absolute_import\n",
    "from __future__ import division\n",
    "from __future__ import print_function\n",
    "\n",
    "import hashlib\n",
    "import math\n",
    "import os.path\n",
    "import random\n",
    "import re\n",
    "import sys\n",
    "import tarfile\n",
    "\n",
    "import numpy as np\n",
    "from six.moves import urllib\n",
    "from six.moves import xrange  # pylint: disable=redefined-builtin\n",
    "import tensorflow as tf\n",
    "\n",
    "from tensorflow.python.ops import gen_audio_ops as audio_ops\n",
    "from tensorflow.python.ops import io_ops\n",
    "from tensorflow.python.platform import gfile\n",
    "from tensorflow.python.util import compat\n",
    "\n"
   ]
  },
  {
   "cell_type": "code",
   "execution_count": 2,
   "metadata": {},
   "outputs": [],
   "source": [
    "# work, try building with bazel instead of running the Python script directly.\n",
    "try:\n",
    "  from tensorflow.lite.experimental.microfrontend.python.ops import audio_microfrontend_op as frontend_op  # pylint:disable=g-import-not-at-top\n",
    "except ImportError:\n",
    "  frontend_op = None"
   ]
  },
  {
   "cell_type": "code",
   "execution_count": 5,
   "metadata": {},
   "outputs": [],
   "source": [
    "import sys\n",
    "# We add this path so we can import the speech processing modules\n",
    "import input_data\n",
    "import models\n",
    "import numpy as np"
   ]
  },
  {
   "cell_type": "code",
   "execution_count": 6,
   "metadata": {},
   "outputs": [],
   "source": [
    "WANTED_WORDS = \"yes,no\"\n",
    "DATASET_DIR = './dataset'\n",
    "PREPROCESS = 'micro'\n",
    "WINDOW_STRIDE = 20\n",
    "SAMPLE_RATE = 16000\n",
    "CLIP_DURATION_MS = 1000\n",
    "WINDOW_SIZE_MS = 40.0\n",
    "FEATURE_BIN_COUNT = 40\n",
    "BACKGROUND_FREQUENCY = 0.8\n",
    "BACKGROUND_VOLUME_RANGE = 0.1\n",
    "TIME_SHIFT_MS = 100.0\n",
    "SILENT_PERCENTAGE =10\n",
    "UNKNOWN_PERCENTAGE =25\n",
    "DATA_URL = 'https://storage.googleapis.com/download.tensorflow.org/data/speech_commands_v0.02.tar.gz'\n",
    "VALIDATION_PERCENTAGE = 10\n",
    "TESTING_PERCENTAGE = 10\n",
    "LOGS_DIR = './logs'"
   ]
  },
  {
   "cell_type": "code",
   "execution_count": 7,
   "metadata": {},
   "outputs": [],
   "source": [
    "model_settings = models.prepare_model_settings(\n",
    "    len(input_data.prepare_words_list(WANTED_WORDS.split(','))),\n",
    "    SAMPLE_RATE, CLIP_DURATION_MS, WINDOW_SIZE_MS,\n",
    "    WINDOW_STRIDE, FEATURE_BIN_COUNT, PREPROCESS)\n",
    "audio_processor = input_data.AudioProcessor(\n",
    "    DATA_URL, DATASET_DIR,\n",
    "    SILENT_PERCENTAGE, UNKNOWN_PERCENTAGE,\n",
    "    WANTED_WORDS.split(','), VALIDATION_PERCENTAGE,\n",
    "    TESTING_PERCENTAGE, model_settings, LOGS_DIR)"
   ]
  },
  {
   "cell_type": "code",
   "execution_count": 8,
   "metadata": {},
   "outputs": [],
   "source": [
    "with tf.compat.v1.Session() as sess:\n",
    "    train_fingerprints, train_ground_truth = audio_processor.get_data(-1,0, model_settings,BACKGROUND_FREQUENCY, BACKGROUND_VOLUME_RANGE,\n",
    "        TIME_SHIFT_MS, 'training', sess)"
   ]
  },
  {
   "cell_type": "code",
   "execution_count": 9,
   "metadata": {},
   "outputs": [],
   "source": [
    "with tf.compat.v1.Session() as sess:\n",
    "    val_fingerprints, val_ground_truth = audio_processor.get_data(-1,0, model_settings,BACKGROUND_FREQUENCY, BACKGROUND_VOLUME_RANGE,\n",
    "        TIME_SHIFT_MS, 'validation', sess)"
   ]
  },
  {
   "cell_type": "code",
   "execution_count": 10,
   "metadata": {},
   "outputs": [],
   "source": [
    "with tf.compat.v1.Session() as sess:\n",
    "    test_fingerprints, test_ground_truth = audio_processor.get_data(-1,0, model_settings,BACKGROUND_FREQUENCY, BACKGROUND_VOLUME_RANGE,\n",
    "        TIME_SHIFT_MS, 'testing', sess)"
   ]
  },
  {
   "cell_type": "code",
   "execution_count": 38,
   "metadata": {},
   "outputs": [],
   "source": [
    "import pickle"
   ]
  },
  {
   "cell_type": "code",
   "execution_count": 42,
   "metadata": {},
   "outputs": [],
   "source": [
    "with open(\"test_data.pkl\",'wb') as file:\n",
    "    pickle.dump(test_fingerprints,file)\n",
    "with open(\"test_labels.pkl\",'wb') as file1:\n",
    "    pickle.dump(test_ground_truth,file1)"
   ]
  },
  {
   "cell_type": "code",
   "execution_count": 11,
   "metadata": {},
   "outputs": [],
   "source": [
    "import matplotlib.pyplot as plt"
   ]
  },
  {
   "cell_type": "code",
   "execution_count": 12,
   "metadata": {},
   "outputs": [
    {
     "data": {
      "text/plain": [
       "'yes,no'"
      ]
     },
     "execution_count": 12,
     "metadata": {},
     "output_type": "execute_result"
    }
   ],
   "source": [
    "WANTED_WORDS"
   ]
  },
  {
   "cell_type": "code",
   "execution_count": 13,
   "metadata": {},
   "outputs": [],
   "source": [
    "labels  = ['silence','unknown']+WANTED_WORDS.split(',')"
   ]
  },
  {
   "cell_type": "code",
   "execution_count": null,
   "metadata": {},
   "outputs": [],
   "source": []
  },
  {
   "cell_type": "code",
   "execution_count": 14,
   "metadata": {},
   "outputs": [
    {
     "name": "stdout",
     "output_type": "stream",
     "text": [
      "['silence', 'unknown', 'yes', 'no']\n"
     ]
    }
   ],
   "source": [
    "print(labels)"
   ]
  },
  {
   "cell_type": "code",
   "execution_count": null,
   "metadata": {},
   "outputs": [],
   "source": []
  },
  {
   "cell_type": "code",
   "execution_count": 15,
   "metadata": {},
   "outputs": [],
   "source": [
    "def plots(i):\n",
    "    print(labels[int(train_ground_truth[i])])\n",
    "    plt.imshow(train_fingerprints[i].reshape(49,40).T)"
   ]
  },
  {
   "cell_type": "code",
   "execution_count": 16,
   "metadata": {},
   "outputs": [
    {
     "name": "stdout",
     "output_type": "stream",
     "text": [
      "yes\n"
     ]
    },
    {
     "data": {
      "image/png": "[encoded data removed]",
      "text/plain": [
       "<Figure size 432x288 with 1 Axes>"
      ]
     },
     "metadata": {
      "needs_background": "light"
     },
     "output_type": "display_data"
    }
   ],
   "source": [
    "plots(7)"
   ]
  },
  {
   "cell_type": "code",
   "execution_count": 17,
   "metadata": {},
   "outputs": [
    {
     "name": "stdout",
     "output_type": "stream",
     "text": [
      "no\n"
     ]
    },
    {
     "data": {
      "image/png": "[encoded data removed]",
      "text/plain": [
       "<Figure size 432x288 with 1 Axes>"
      ]
     },
     "metadata": {
      "needs_background": "light"
     },
     "output_type": "display_data"
    }
   ],
   "source": [
    "plots(687)"
   ]
  },
  {
   "cell_type": "code",
   "execution_count": 18,
   "metadata": {},
   "outputs": [
    {
     "data": {
      "text/plain": [
       "'yes,no'"
      ]
     },
     "execution_count": 18,
     "metadata": {},
     "output_type": "execute_result"
    }
   ],
   "source": [
    "WANTED_WORDS"
   ]
  },
  {
   "cell_type": "code",
   "execution_count": 21,
   "metadata": {},
   "outputs": [
    {
     "name": "stdout",
     "output_type": "stream",
     "text": [
      "no\n"
     ]
    },
    {
     "data": {
      "image/png": "[encoded data removed]",
      "text/plain": [
       "<Figure size 432x288 with 1 Axes>"
      ]
     },
     "metadata": {
      "needs_background": "light"
     },
     "output_type": "display_data"
    }
   ],
   "source": [
    "plots(7004)"
   ]
  },
  {
   "cell_type": "code",
   "execution_count": 22,
   "metadata": {},
   "outputs": [
    {
     "data": {
      "text/plain": [
       "array([[25.9375   , 24.375    , 25.8984375, ..., 23.203125 , 24.84375  ,\n",
       "        23.828125 ],\n",
       "       [22.5390625, 22.03125  , 25.0390625, ..., 21.7578125, 23.75     ,\n",
       "        21.7578125],\n",
       "       [21.2109375, 20.46875  , 22.65625  , ..., 20.3515625, 23.671875 ,\n",
       "        21.40625  ],\n",
       "       ...,\n",
       "       [ 0.       ,  0.       ,  0.       , ...,  0.       ,  0.       ,\n",
       "         0.       ],\n",
       "       [ 0.       ,  0.       ,  0.       , ...,  0.       , 10.9375   ,\n",
       "         0.       ],\n",
       "       [ 0.       ,  0.       ,  0.       , ...,  0.       ,  0.       ,\n",
       "         0.       ]])"
      ]
     },
     "execution_count": 22,
     "metadata": {},
     "output_type": "execute_result"
    }
   ],
   "source": [
    "train_fingerprints[0].reshape(49,40)"
   ]
  },
  {
   "cell_type": "code",
   "execution_count": 23,
   "metadata": {},
   "outputs": [
    {
     "data": {
      "text/plain": [
       "array([1., 0., 1., ..., 2., 3., 3.])"
      ]
     },
     "execution_count": 23,
     "metadata": {},
     "output_type": "execute_result"
    }
   ],
   "source": [
    "train_ground_truth"
   ]
  },
  {
   "cell_type": "code",
   "execution_count": 24,
   "metadata": {},
   "outputs": [],
   "source": [
    "\n",
    "from tensorflow.keras.layers.experimental import preprocessing"
   ]
  },
  {
   "cell_type": "code",
   "execution_count": 25,
   "metadata": {},
   "outputs": [],
   "source": [
    "from tensorflow.keras import models as mod"
   ]
  },
  {
   "cell_type": "code",
   "execution_count": 26,
   "metadata": {},
   "outputs": [],
   "source": [
    "from tensorflow.keras import layers"
   ]
  },
  {
   "cell_type": "code",
   "execution_count": null,
   "metadata": {},
   "outputs": [],
   "source": []
  },
  {
   "cell_type": "code",
   "execution_count": 85,
   "metadata": {},
   "outputs": [],
   "source": [
    "import numpy as np"
   ]
  },
  {
   "cell_type": "code",
   "execution_count": 39,
   "metadata": {},
   "outputs": [],
   "source": [
    "train2 = np.expand_dims(train_fingerprints, axis=2)"
   ]
  },
  {
   "cell_type": "code",
   "execution_count": 40,
   "metadata": {},
   "outputs": [
    {
     "data": {
      "text/plain": [
       "(16387, 1960, 1)"
      ]
     },
     "execution_count": 40,
     "metadata": {},
     "output_type": "execute_result"
    }
   ],
   "source": [
    "train2.shape"
   ]
  },
  {
   "cell_type": "code",
   "execution_count": 41,
   "metadata": {},
   "outputs": [],
   "source": [
    "labels2 = np.expand_dims(train_ground_truth,axis=1)"
   ]
  },
  {
   "cell_type": "code",
   "execution_count": 42,
   "metadata": {},
   "outputs": [
    {
     "data": {
      "text/plain": [
       "(16387, 1)"
      ]
     },
     "execution_count": 42,
     "metadata": {},
     "output_type": "execute_result"
    }
   ],
   "source": [
    "labels2.shape"
   ]
  },
  {
   "cell_type": "code",
   "execution_count": 43,
   "metadata": {},
   "outputs": [
    {
     "data": {
      "text/plain": [
       "(1960, 1)"
      ]
     },
     "execution_count": 43,
     "metadata": {},
     "output_type": "execute_result"
    }
   ],
   "source": [
    "train2.shape[1:]"
   ]
  },
  {
   "cell_type": "code",
   "execution_count": 45,
   "metadata": {},
   "outputs": [],
   "source": [
    "valdata  = np.expand_dims(val_fingerprints,axis=2)\n",
    "vallabels = np.expand_dims(val_ground_truth,axis=1)"
   ]
  },
  {
   "cell_type": "code",
   "execution_count": 46,
   "metadata": {},
   "outputs": [],
   "source": [
    "testdata  = np.expand_dims(test_fingerprints,axis=2)\n",
    "testlabels = np.expand_dims(test_ground_truth,axis=1)"
   ]
  },
  {
   "cell_type": "code",
   "execution_count": 47,
   "metadata": {},
   "outputs": [
    {
     "data": {
      "text/plain": [
       "(1960, 1)"
      ]
     },
     "execution_count": 47,
     "metadata": {},
     "output_type": "execute_result"
    }
   ],
   "source": [
    "train2.shape[1:]"
   ]
  },
  {
   "cell_type": "code",
   "execution_count": 21,
   "metadata": {},
   "outputs": [
    {
     "data": {
      "text/plain": [
       "(16387, 1960)"
      ]
     },
     "execution_count": 21,
     "metadata": {},
     "output_type": "execute_result"
    }
   ],
   "source": [
    "train_fingerprints.shape"
   ]
  },
  {
   "cell_type": "code",
   "execution_count": 30,
   "metadata": {},
   "outputs": [
    {
     "name": "stdout",
     "output_type": "stream",
     "text": [
      "Model: \"sequential_2\"\n",
      "_________________________________________________________________\n",
      "Layer (type)                 Output Shape              Param #   \n",
      "=================================================================\n",
      "reshape_2 (Reshape)          (None, 49, 40, 1)         0         \n",
      "_________________________________________________________________\n",
      "conv2d_2 (Conv2D)            (None, 40, 33, 12)        972       \n",
      "_________________________________________________________________\n",
      "dropout_4 (Dropout)          (None, 40, 33, 12)        0         \n",
      "_________________________________________________________________\n",
      "max_pooling2d_2 (MaxPooling2 (None, 10, 8, 12)         0         \n",
      "_________________________________________________________________\n",
      "flatten_2 (Flatten)          (None, 960)               0         \n",
      "_________________________________________________________________\n",
      "dense_4 (Dense)              (None, 144)               138384    \n",
      "_________________________________________________________________\n",
      "dropout_5 (Dropout)          (None, 144)               0         \n",
      "_________________________________________________________________\n",
      "dense_5 (Dense)              (None, 4)                 580       \n",
      "=================================================================\n",
      "Total params: 139,936\n",
      "Trainable params: 139,936\n",
      "Non-trainable params: 0\n",
      "_________________________________________________________________\n"
     ]
    }
   ],
   "source": [
    "model = tf.keras.Sequential()\n",
    "model.add(layers.Input(shape=(1960)))\n",
    "model.add(layers.Reshape((49, 40,1)))\n",
    "model.add(layers.Conv2D(12,kernel_size=(10,8), activation='relu')) \n",
    "\n",
    "\n",
    "model.add(layers.Dropout(0.10))\n",
    "model.add(layers.MaxPool2D(pool_size=(4, 4), strides=None, padding=\"valid\"))\n",
    "#model.add(layers.Conv2D(4, kernel_size=(5,4), activation='relu')) \n",
    "#model.add(layers.MaxPool2D())\n",
    "model.add(layers.Flatten()),\n",
    "model.add(layers.Dense(144, activation='relu')),\n",
    "model.add(layers.Dropout(0.10)),\n",
    "model.add(layers.Dense(len(labels), activation='softmax'))\n",
    "\n",
    "model.compile(\n",
    "    optimizer=tf.keras.optimizers.SGD(),\n",
    "    loss=tf.keras.losses.SparseCategoricalCrossentropy(from_logits=True),\n",
    "    metrics=['accuracy'],\n",
    ")\n",
    "\n",
    "model.summary()"
   ]
  },
  {
   "cell_type": "code",
   "execution_count": 32,
   "metadata": {},
   "outputs": [
    {
     "name": "stdout",
     "output_type": "stream",
     "text": [
      "Train on 8584 samples, validate on 1085 samples\n",
      "Epoch 1/100\n",
      "8584/8584 [==============================] - 3s 345us/sample - loss: 1.0726 - accuracy: 0.6676 - val_loss: 1.0560 - val_accuracy: 0.6793\n",
      "Epoch 2/100\n",
      "8584/8584 [==============================] - 3s 344us/sample - loss: 1.0164 - accuracy: 0.7241 - val_loss: 0.9941 - val_accuracy: 0.7456\n",
      "Epoch 3/100\n",
      "8584/8584 [==============================] - 3s 344us/sample - loss: 0.9984 - accuracy: 0.7431 - val_loss: 0.9808 - val_accuracy: 0.7631\n",
      "Epoch 4/100\n",
      "8584/8584 [==============================] - 3s 343us/sample - loss: 0.9860 - accuracy: 0.7559 - val_loss: 0.9752 - val_accuracy: 0.7659\n",
      "Epoch 5/100\n",
      "8584/8584 [==============================] - 3s 345us/sample - loss: 0.9791 - accuracy: 0.7630 - val_loss: 0.9709 - val_accuracy: 0.7714\n",
      "Epoch 6/100\n",
      "8584/8584 [==============================] - 3s 343us/sample - loss: 0.9575 - accuracy: 0.7827 - val_loss: 0.9436 - val_accuracy: 0.7991\n",
      "Epoch 7/100\n",
      "8584/8584 [==============================] - 3s 342us/sample - loss: 0.9193 - accuracy: 0.8241 - val_loss: 0.9000 - val_accuracy: 0.8442\n",
      "Epoch 8/100\n",
      "8584/8584 [==============================] - 3s 343us/sample - loss: 0.9048 - accuracy: 0.8371 - val_loss: 0.8918 - val_accuracy: 0.8516\n",
      "Epoch 9/100\n",
      "8584/8584 [==============================] - 3s 344us/sample - loss: 0.8900 - accuracy: 0.8537 - val_loss: 0.9443 - val_accuracy: 0.8000\n",
      "Epoch 10/100\n",
      "8584/8584 [==============================] - 3s 342us/sample - loss: 0.8796 - accuracy: 0.8620 - val_loss: 0.8809 - val_accuracy: 0.8571\n",
      "Epoch 11/100\n",
      "8584/8584 [==============================] - 3s 352us/sample - loss: 0.8722 - accuracy: 0.8709 - val_loss: 0.9054 - val_accuracy: 0.8332\n",
      "Epoch 12/100\n",
      "8584/8584 [==============================] - 3s 340us/sample - loss: 0.8659 - accuracy: 0.8779 - val_loss: 0.8902 - val_accuracy: 0.8544\n",
      "Epoch 13/100\n",
      "8584/8584 [==============================] - 3s 342us/sample - loss: 0.8599 - accuracy: 0.8825 - val_loss: 0.8705 - val_accuracy: 0.8673\n",
      "Epoch 14/100\n",
      "8584/8584 [==============================] - 3s 340us/sample - loss: 0.8542 - accuracy: 0.8906 - val_loss: 0.8697 - val_accuracy: 0.8728\n",
      "Epoch 15/100\n",
      "8584/8584 [==============================] - 3s 342us/sample - loss: 0.8503 - accuracy: 0.8942 - val_loss: 0.8579 - val_accuracy: 0.8885\n",
      "Epoch 16/100\n",
      "8584/8584 [==============================] - 3s 342us/sample - loss: 0.8464 - accuracy: 0.8966 - val_loss: 0.8566 - val_accuracy: 0.8839\n",
      "Epoch 17/100\n",
      "8584/8584 [==============================] - 3s 340us/sample - loss: 0.8441 - accuracy: 0.9011 - val_loss: 0.8550 - val_accuracy: 0.8866\n",
      "Epoch 18/100\n",
      "8584/8584 [==============================] - 3s 341us/sample - loss: 0.8372 - accuracy: 0.9070 - val_loss: 0.8603 - val_accuracy: 0.8802\n",
      "Epoch 19/100\n",
      "8584/8584 [==============================] - 3s 341us/sample - loss: 0.8349 - accuracy: 0.9082 - val_loss: 0.8532 - val_accuracy: 0.8912\n",
      "Epoch 20/100\n",
      "8584/8584 [==============================] - 3s 342us/sample - loss: 0.8301 - accuracy: 0.9150 - val_loss: 0.8530 - val_accuracy: 0.8903\n",
      "Epoch 21/100\n",
      "8584/8584 [==============================] - 3s 348us/sample - loss: 0.8290 - accuracy: 0.9169 - val_loss: 0.8493 - val_accuracy: 0.8931\n",
      "Epoch 22/100\n",
      "8584/8584 [==============================] - 3s 347us/sample - loss: 0.8270 - accuracy: 0.9175 - val_loss: 0.8523 - val_accuracy: 0.8903\n",
      "Epoch 23/100\n",
      "8584/8584 [==============================] - 3s 341us/sample - loss: 0.8261 - accuracy: 0.9183 - val_loss: 0.8495 - val_accuracy: 0.8885\n",
      "Epoch 24/100\n",
      "8584/8584 [==============================] - 3s 342us/sample - loss: 0.8212 - accuracy: 0.9243 - val_loss: 0.8527 - val_accuracy: 0.8894\n",
      "Epoch 25/100\n",
      "8584/8584 [==============================] - 3s 348us/sample - loss: 0.8197 - accuracy: 0.9261 - val_loss: 0.8501 - val_accuracy: 0.8903\n",
      "Epoch 26/100\n",
      "8584/8584 [==============================] - 3s 345us/sample - loss: 0.8171 - accuracy: 0.9292 - val_loss: 0.8439 - val_accuracy: 0.8986\n",
      "Epoch 27/100\n",
      "8584/8584 [==============================] - 3s 349us/sample - loss: 0.8143 - accuracy: 0.9327 - val_loss: 0.8493 - val_accuracy: 0.8959\n",
      "Epoch 28/100\n",
      "8584/8584 [==============================] - 3s 345us/sample - loss: 0.8123 - accuracy: 0.9342 - val_loss: 0.8471 - val_accuracy: 0.8949\n",
      "Epoch 29/100\n",
      "8584/8584 [==============================] - 3s 345us/sample - loss: 0.8118 - accuracy: 0.9337 - val_loss: 0.8417 - val_accuracy: 0.9014\n",
      "Epoch 30/100\n",
      "8584/8584 [==============================] - 3s 338us/sample - loss: 0.8125 - accuracy: 0.9335 - val_loss: 0.8437 - val_accuracy: 0.9005\n",
      "Epoch 31/100\n",
      "8584/8584 [==============================] - 3s 332us/sample - loss: 0.8087 - accuracy: 0.9370 - val_loss: 0.8557 - val_accuracy: 0.8829\n",
      "Epoch 32/100\n",
      "8584/8584 [==============================] - 3s 329us/sample - loss: 0.8071 - accuracy: 0.9385 - val_loss: 0.8446 - val_accuracy: 0.8995\n",
      "Epoch 33/100\n",
      "8584/8584 [==============================] - 3s 328us/sample - loss: 0.8057 - accuracy: 0.9406 - val_loss: 0.8471 - val_accuracy: 0.8968\n",
      "Epoch 34/100\n",
      "8584/8584 [==============================] - 3s 330us/sample - loss: 0.8050 - accuracy: 0.9405 - val_loss: 0.8406 - val_accuracy: 0.9069\n",
      "Epoch 35/100\n",
      "8584/8584 [==============================] - 3s 349us/sample - loss: 0.8005 - accuracy: 0.9450 - val_loss: 0.8462 - val_accuracy: 0.8968\n",
      "Epoch 36/100\n",
      "8584/8584 [==============================] - 3s 339us/sample - loss: 0.8004 - accuracy: 0.9452 - val_loss: 0.8431 - val_accuracy: 0.9023\n",
      "Epoch 37/100\n",
      "8584/8584 [==============================] - 3s 339us/sample - loss: 0.8005 - accuracy: 0.9449 - val_loss: 0.8407 - val_accuracy: 0.9069\n",
      "Epoch 38/100\n",
      "8584/8584 [==============================] - 3s 339us/sample - loss: 0.7989 - accuracy: 0.9472 - val_loss: 0.8440 - val_accuracy: 0.8959\n",
      "Epoch 39/100\n",
      "8584/8584 [==============================] - 3s 340us/sample - loss: 0.7971 - accuracy: 0.9494 - val_loss: 0.8431 - val_accuracy: 0.8986\n",
      "Epoch 40/100\n",
      "8584/8584 [==============================] - 3s 338us/sample - loss: 0.7969 - accuracy: 0.9482 - val_loss: 0.8458 - val_accuracy: 0.8986\n",
      "Epoch 41/100\n",
      "8584/8584 [==============================] - 3s 358us/sample - loss: 0.7954 - accuracy: 0.9505 - val_loss: 0.8429 - val_accuracy: 0.9005\n",
      "Epoch 42/100\n",
      "8584/8584 [==============================] - 3s 334us/sample - loss: 0.7933 - accuracy: 0.9529 - val_loss: 0.8420 - val_accuracy: 0.9032\n",
      "Epoch 43/100\n",
      "8584/8584 [==============================] - 3s 328us/sample - loss: 0.7940 - accuracy: 0.9521 - val_loss: 0.8398 - val_accuracy: 0.9041\n",
      "Epoch 44/100\n",
      "8584/8584 [==============================] - 3s 334us/sample - loss: 0.7928 - accuracy: 0.9531 - val_loss: 0.8405 - val_accuracy: 0.9032\n",
      "Epoch 45/100\n",
      "8584/8584 [==============================] - 3s 333us/sample - loss: 0.7939 - accuracy: 0.9522 - val_loss: 0.8411 - val_accuracy: 0.9023\n",
      "Epoch 46/100\n",
      "8584/8584 [==============================] - 3s 334us/sample - loss: 0.7894 - accuracy: 0.9560 - val_loss: 0.8434 - val_accuracy: 0.9023\n",
      "Epoch 47/100\n",
      "8584/8584 [==============================] - 3s 337us/sample - loss: 0.7906 - accuracy: 0.9551 - val_loss: 0.8434 - val_accuracy: 0.9014\n",
      "Epoch 48/100\n",
      "8584/8584 [==============================] - 3s 333us/sample - loss: 0.7885 - accuracy: 0.9569 - val_loss: 0.8404 - val_accuracy: 0.9005\n",
      "Epoch 49/100\n",
      "8584/8584 [==============================] - 3s 330us/sample - loss: 0.7894 - accuracy: 0.9561 - val_loss: 0.8422 - val_accuracy: 0.9014\n",
      "Epoch 50/100\n",
      "8584/8584 [==============================] - 3s 333us/sample - loss: 0.7867 - accuracy: 0.9583 - val_loss: 0.8459 - val_accuracy: 0.8949\n",
      "Epoch 51/100\n",
      "8584/8584 [==============================] - 3s 335us/sample - loss: 0.7871 - accuracy: 0.9581 - val_loss: 0.8391 - val_accuracy: 0.8995\n",
      "Epoch 52/100\n",
      "8584/8584 [==============================] - 3s 331us/sample - loss: 0.7872 - accuracy: 0.9579 - val_loss: 0.8925 - val_accuracy: 0.8525\n",
      "Epoch 53/100\n",
      "8584/8584 [==============================] - 3s 329us/sample - loss: 0.7850 - accuracy: 0.9613 - val_loss: 0.8383 - val_accuracy: 0.9023\n",
      "Epoch 54/100\n",
      "8584/8584 [==============================] - 3s 333us/sample - loss: 0.7848 - accuracy: 0.9605 - val_loss: 0.8365 - val_accuracy: 0.9078\n",
      "Epoch 55/100\n"
     ]
    },
    {
     "name": "stdout",
     "output_type": "stream",
     "text": [
      "8584/8584 [==============================] - 3s 331us/sample - loss: 0.7833 - accuracy: 0.9630 - val_loss: 0.8368 - val_accuracy: 0.9069\n",
      "Epoch 56/100\n",
      "8584/8584 [==============================] - 3s 331us/sample - loss: 0.7827 - accuracy: 0.9631 - val_loss: 0.8387 - val_accuracy: 0.9041\n",
      "Epoch 57/100\n",
      "8584/8584 [==============================] - 3s 332us/sample - loss: 0.7820 - accuracy: 0.9642 - val_loss: 0.8367 - val_accuracy: 0.9078\n",
      "Epoch 58/100\n",
      "8584/8584 [==============================] - 3s 331us/sample - loss: 0.7816 - accuracy: 0.9642 - val_loss: 0.8588 - val_accuracy: 0.8783\n",
      "Epoch 59/100\n",
      "8584/8584 [==============================] - 3s 329us/sample - loss: 0.7817 - accuracy: 0.9637 - val_loss: 0.8404 - val_accuracy: 0.9032\n",
      "Epoch 60/100\n",
      "8584/8584 [==============================] - 3s 328us/sample - loss: 0.7807 - accuracy: 0.9652 - val_loss: 0.8373 - val_accuracy: 0.9060\n",
      "Epoch 61/100\n",
      "8584/8584 [==============================] - 3s 329us/sample - loss: 0.7798 - accuracy: 0.9663 - val_loss: 0.8469 - val_accuracy: 0.8949\n",
      "Epoch 62/100\n",
      "8584/8584 [==============================] - 3s 329us/sample - loss: 0.7806 - accuracy: 0.9642 - val_loss: 0.8423 - val_accuracy: 0.8977\n",
      "Epoch 63/100\n",
      "8584/8584 [==============================] - 3s 330us/sample - loss: 0.7794 - accuracy: 0.9664 - val_loss: 0.8400 - val_accuracy: 0.9060\n",
      "Epoch 64/100\n",
      "8584/8584 [==============================] - 3s 328us/sample - loss: 0.7784 - accuracy: 0.9670 - val_loss: 0.8391 - val_accuracy: 0.9032\n",
      "Epoch 65/100\n",
      "8584/8584 [==============================] - 3s 329us/sample - loss: 0.7783 - accuracy: 0.9678 - val_loss: 0.8396 - val_accuracy: 0.9032\n",
      "Epoch 66/100\n",
      "8584/8584 [==============================] - 3s 329us/sample - loss: 0.7771 - accuracy: 0.9681 - val_loss: 0.8399 - val_accuracy: 0.9014\n",
      "Epoch 67/100\n",
      "8584/8584 [==============================] - 3s 328us/sample - loss: 0.7772 - accuracy: 0.9689 - val_loss: 0.8438 - val_accuracy: 0.9005\n",
      "Epoch 68/100\n",
      "8584/8584 [==============================] - 3s 328us/sample - loss: 0.7777 - accuracy: 0.9673 - val_loss: 0.8378 - val_accuracy: 0.9060\n",
      "Epoch 69/100\n",
      "8584/8584 [==============================] - 3s 332us/sample - loss: 0.7763 - accuracy: 0.9689 - val_loss: 0.8340 - val_accuracy: 0.9115\n",
      "Epoch 70/100\n",
      "8584/8584 [==============================] - 3s 328us/sample - loss: 0.7753 - accuracy: 0.9695 - val_loss: 0.8515 - val_accuracy: 0.8894\n",
      "Epoch 71/100\n",
      "8584/8584 [==============================] - 3s 329us/sample - loss: 0.7761 - accuracy: 0.9694 - val_loss: 0.8359 - val_accuracy: 0.9069\n",
      "Epoch 72/100\n",
      "8584/8584 [==============================] - 3s 330us/sample - loss: 0.7759 - accuracy: 0.9695 - val_loss: 0.8360 - val_accuracy: 0.9097\n",
      "Epoch 73/100\n",
      "8584/8584 [==============================] - 3s 330us/sample - loss: 0.7737 - accuracy: 0.9715 - val_loss: 0.8405 - val_accuracy: 0.8986\n",
      "Epoch 74/100\n",
      "8584/8584 [==============================] - 3s 329us/sample - loss: 0.7745 - accuracy: 0.9703 - val_loss: 0.8395 - val_accuracy: 0.9032\n",
      "Epoch 75/100\n",
      "8584/8584 [==============================] - 3s 330us/sample - loss: 0.7732 - accuracy: 0.9725 - val_loss: 0.8366 - val_accuracy: 0.9069\n",
      "Epoch 76/100\n",
      "8584/8584 [==============================] - 3s 330us/sample - loss: 0.7747 - accuracy: 0.9704 - val_loss: 0.8365 - val_accuracy: 0.9069\n",
      "Epoch 77/100\n",
      "8584/8584 [==============================] - 3s 329us/sample - loss: 0.7734 - accuracy: 0.9717 - val_loss: 0.8400 - val_accuracy: 0.9032\n",
      "Epoch 78/100\n",
      "8584/8584 [==============================] - 3s 329us/sample - loss: 0.7726 - accuracy: 0.9730 - val_loss: 0.8390 - val_accuracy: 0.9023\n",
      "Epoch 79/100\n",
      "8584/8584 [==============================] - 3s 335us/sample - loss: 0.7728 - accuracy: 0.9726 - val_loss: 0.8419 - val_accuracy: 0.8986\n",
      "Epoch 80/100\n",
      "8584/8584 [==============================] - 3s 330us/sample - loss: 0.7725 - accuracy: 0.9730 - val_loss: 0.8420 - val_accuracy: 0.8986\n",
      "Epoch 81/100\n",
      "8584/8584 [==============================] - 3s 331us/sample - loss: 0.7733 - accuracy: 0.9718 - val_loss: 0.8370 - val_accuracy: 0.9097\n",
      "Epoch 82/100\n",
      "8584/8584 [==============================] - 3s 329us/sample - loss: 0.7717 - accuracy: 0.9736 - val_loss: 0.8426 - val_accuracy: 0.8986\n",
      "Epoch 83/100\n",
      "8584/8584 [==============================] - 3s 339us/sample - loss: 0.7716 - accuracy: 0.9736 - val_loss: 0.8382 - val_accuracy: 0.9078\n",
      "Epoch 84/100\n",
      "8584/8584 [==============================] - 3s 348us/sample - loss: 0.7711 - accuracy: 0.9738 - val_loss: 0.8420 - val_accuracy: 0.8986\n",
      "Epoch 85/100\n",
      "8584/8584 [==============================] - 3s 339us/sample - loss: 0.7713 - accuracy: 0.9739 - val_loss: 0.8400 - val_accuracy: 0.9014\n",
      "Epoch 86/100\n",
      "8584/8584 [==============================] - 3s 341us/sample - loss: 0.7715 - accuracy: 0.9734 - val_loss: 0.8408 - val_accuracy: 0.9060\n",
      "Epoch 87/100\n",
      "8584/8584 [==============================] - 3s 340us/sample - loss: 0.7707 - accuracy: 0.9743 - val_loss: 0.8348 - val_accuracy: 0.9115\n",
      "Epoch 88/100\n",
      "8584/8584 [==============================] - 3s 334us/sample - loss: 0.7703 - accuracy: 0.9744 - val_loss: 0.8353 - val_accuracy: 0.9041\n",
      "Epoch 89/100\n",
      "8584/8584 [==============================] - 3s 336us/sample - loss: 0.7700 - accuracy: 0.9748 - val_loss: 0.8385 - val_accuracy: 0.9051\n",
      "Epoch 90/100\n",
      "8584/8584 [==============================] - 3s 336us/sample - loss: 0.7700 - accuracy: 0.9758 - val_loss: 0.8373 - val_accuracy: 0.9069\n",
      "Epoch 91/100\n",
      "8584/8584 [==============================] - 3s 337us/sample - loss: 0.7694 - accuracy: 0.9758 - val_loss: 0.8330 - val_accuracy: 0.9115\n",
      "Epoch 92/100\n",
      "8584/8584 [==============================] - 3s 334us/sample - loss: 0.7698 - accuracy: 0.9754 - val_loss: 0.8381 - val_accuracy: 0.9051\n",
      "Epoch 93/100\n",
      "8584/8584 [==============================] - 3s 337us/sample - loss: 0.7687 - accuracy: 0.9764 - val_loss: 0.8376 - val_accuracy: 0.9060\n",
      "Epoch 94/100\n",
      "8584/8584 [==============================] - 3s 338us/sample - loss: 0.7698 - accuracy: 0.9746 - val_loss: 0.8368 - val_accuracy: 0.9069\n",
      "Epoch 95/100\n",
      "8584/8584 [==============================] - 3s 339us/sample - loss: 0.7690 - accuracy: 0.9761 - val_loss: 0.8366 - val_accuracy: 0.9097\n",
      "Epoch 96/100\n",
      "8584/8584 [==============================] - 3s 333us/sample - loss: 0.7681 - accuracy: 0.9772 - val_loss: 0.8353 - val_accuracy: 0.9078\n",
      "Epoch 97/100\n",
      "8584/8584 [==============================] - 3s 335us/sample - loss: 0.7675 - accuracy: 0.9768 - val_loss: 0.8324 - val_accuracy: 0.9143\n",
      "Epoch 98/100\n",
      "8584/8584 [==============================] - 3s 335us/sample - loss: 0.7676 - accuracy: 0.9776 - val_loss: 0.8367 - val_accuracy: 0.9088\n",
      "Epoch 99/100\n",
      "8584/8584 [==============================] - 3s 336us/sample - loss: 0.7681 - accuracy: 0.9764 - val_loss: 0.8333 - val_accuracy: 0.9115\n",
      "Epoch 100/100\n",
      "8584/8584 [==============================] - 3s 337us/sample - loss: 0.7684 - accuracy: 0.9764 - val_loss: 0.8334 - val_accuracy: 0.9115\n"
     ]
    }
   ],
   "source": [
    "EPOCHS = 100\n",
    "history = model.fit(\n",
    "    train_fingerprints, \n",
    "  train_ground_truth,\n",
    "    validation_data=(val_fingerprints,val_ground_truth),\n",
    "    epochs=EPOCHS,\n",
    ")"
   ]
  },
  {
   "cell_type": "code",
   "execution_count": 79,
   "metadata": {},
   "outputs": [
    {
     "name": "stdout",
     "output_type": "stream",
     "text": [
      "Train on 16387 samples, validate on 1948 samples\n",
      "Epoch 1/100\n",
      "16387/16387 [==============================] - 6s 358us/sample - loss: 1.2318 - accuracy: 0.8116 - val_loss: 1.2139 - val_accuracy: 0.8306\n",
      "Epoch 2/100\n",
      "16387/16387 [==============================] - 6s 351us/sample - loss: 1.2248 - accuracy: 0.8202 - val_loss: 1.2169 - val_accuracy: 0.8270\n",
      "Epoch 3/100\n",
      "16387/16387 [==============================] - 6s 358us/sample - loss: 1.2185 - accuracy: 0.8266 - val_loss: 1.2178 - val_accuracy: 0.8280\n",
      "Epoch 4/100\n",
      "16387/16387 [==============================] - 6s 347us/sample - loss: 1.2136 - accuracy: 0.8305 - val_loss: 1.2180 - val_accuracy: 0.8203\n",
      "Epoch 5/100\n",
      "16387/16387 [==============================] - 6s 347us/sample - loss: 1.2091 - accuracy: 0.8354 - val_loss: 1.2671 - val_accuracy: 0.7782\n",
      "Epoch 6/100\n",
      "16387/16387 [==============================] - 6s 348us/sample - loss: 1.2025 - accuracy: 0.8413 - val_loss: 1.2080 - val_accuracy: 0.8362\n",
      "Epoch 7/100\n",
      "16387/16387 [==============================] - 6s 349us/sample - loss: 1.1982 - accuracy: 0.8465 - val_loss: 1.2890 - val_accuracy: 0.7505\n",
      "Epoch 8/100\n",
      "16387/16387 [==============================] - 6s 348us/sample - loss: 1.1941 - accuracy: 0.8511 - val_loss: 1.2060 - val_accuracy: 0.8357\n",
      "Epoch 9/100\n",
      "16387/16387 [==============================] - 6s 349us/sample - loss: 1.1902 - accuracy: 0.8541 - val_loss: 1.2846 - val_accuracy: 0.7598\n",
      "Epoch 10/100\n",
      "16387/16387 [==============================] - 6s 349us/sample - loss: 1.1931 - accuracy: 0.8521 - val_loss: 1.2058 - val_accuracy: 0.8368\n",
      "Epoch 11/100\n",
      "16387/16387 [==============================] - 6s 349us/sample - loss: 1.1854 - accuracy: 0.8601 - val_loss: 1.2075 - val_accuracy: 0.8342\n",
      "Epoch 12/100\n",
      "16387/16387 [==============================] - 6s 350us/sample - loss: 1.1815 - accuracy: 0.8640 - val_loss: 1.1953 - val_accuracy: 0.8460\n",
      "Epoch 13/100\n",
      "16387/16387 [==============================] - 6s 353us/sample - loss: 1.1781 - accuracy: 0.8667 - val_loss: 1.2317 - val_accuracy: 0.8121\n",
      "Epoch 14/100\n",
      "16387/16387 [==============================] - 6s 350us/sample - loss: 1.1748 - accuracy: 0.8701 - val_loss: 1.1940 - val_accuracy: 0.8516\n",
      "Epoch 15/100\n",
      "16387/16387 [==============================] - 6s 349us/sample - loss: 1.1713 - accuracy: 0.8745 - val_loss: 1.1974 - val_accuracy: 0.8475\n",
      "Epoch 16/100\n",
      "16387/16387 [==============================] - 6s 350us/sample - loss: 1.1692 - accuracy: 0.8764 - val_loss: 1.1940 - val_accuracy: 0.8491\n",
      "Epoch 17/100\n",
      "16387/16387 [==============================] - 6s 348us/sample - loss: 1.1656 - accuracy: 0.8800 - val_loss: 1.1945 - val_accuracy: 0.8486\n",
      "Epoch 18/100\n",
      "16387/16387 [==============================] - 6s 349us/sample - loss: 1.1634 - accuracy: 0.8824 - val_loss: 1.3144 - val_accuracy: 0.7269\n",
      "Epoch 19/100\n",
      "16387/16387 [==============================] - 6s 362us/sample - loss: 1.1653 - accuracy: 0.8798 - val_loss: 1.1936 - val_accuracy: 0.8511\n",
      "Epoch 20/100\n",
      "16387/16387 [==============================] - 6s 350us/sample - loss: 1.1595 - accuracy: 0.8863 - val_loss: 1.2554 - val_accuracy: 0.7870\n",
      "Epoch 21/100\n",
      "16387/16387 [==============================] - 6s 361us/sample - loss: 1.1587 - accuracy: 0.8872 - val_loss: 1.1940 - val_accuracy: 0.8450\n",
      "Epoch 22/100\n",
      "16387/16387 [==============================] - 6s 347us/sample - loss: 1.1562 - accuracy: 0.8886 - val_loss: 1.2124 - val_accuracy: 0.8285\n",
      "Epoch 23/100\n",
      "16387/16387 [==============================] - 6s 348us/sample - loss: 1.1533 - accuracy: 0.8918 - val_loss: 1.1974 - val_accuracy: 0.8491\n",
      "Epoch 24/100\n",
      "16387/16387 [==============================] - 6s 349us/sample - loss: 1.1496 - accuracy: 0.8968 - val_loss: 1.1937 - val_accuracy: 0.8475\n",
      "Epoch 25/100\n",
      "16387/16387 [==============================] - 6s 349us/sample - loss: 1.1473 - accuracy: 0.8977 - val_loss: 1.1905 - val_accuracy: 0.8522\n",
      "Epoch 26/100\n",
      "16387/16387 [==============================] - 6s 350us/sample - loss: 1.1457 - accuracy: 0.9000 - val_loss: 1.1938 - val_accuracy: 0.8511\n",
      "Epoch 27/100\n",
      "16387/16387 [==============================] - 6s 349us/sample - loss: 1.1430 - accuracy: 0.9028 - val_loss: 1.1920 - val_accuracy: 0.8480\n",
      "Epoch 28/100\n",
      "16387/16387 [==============================] - 6s 347us/sample - loss: 1.1468 - accuracy: 0.8982 - val_loss: 1.1956 - val_accuracy: 0.8470\n",
      "Epoch 29/100\n",
      "16387/16387 [==============================] - 6s 346us/sample - loss: 1.1414 - accuracy: 0.9045 - val_loss: 1.2319 - val_accuracy: 0.8106\n",
      "Epoch 30/100\n",
      "16387/16387 [==============================] - 6s 348us/sample - loss: 1.1404 - accuracy: 0.9068 - val_loss: 1.1911 - val_accuracy: 0.8506\n",
      "Epoch 31/100\n",
      "16387/16387 [==============================] - 6s 349us/sample - loss: 1.1399 - accuracy: 0.9054 - val_loss: 1.1892 - val_accuracy: 0.8506\n",
      "Epoch 32/100\n",
      "16387/16387 [==============================] - 6s 348us/sample - loss: 1.1378 - accuracy: 0.9075 - val_loss: 1.1888 - val_accuracy: 0.8506\n",
      "Epoch 33/100\n",
      "16387/16387 [==============================] - 6s 349us/sample - loss: 1.1357 - accuracy: 0.9103 - val_loss: 1.1920 - val_accuracy: 0.8501\n",
      "Epoch 34/100\n",
      "16387/16387 [==============================] - 6s 349us/sample - loss: 1.1353 - accuracy: 0.9101 - val_loss: 1.1863 - val_accuracy: 0.8573\n",
      "Epoch 35/100\n",
      "16387/16387 [==============================] - 6s 363us/sample - loss: 1.1331 - accuracy: 0.9128 - val_loss: 1.1914 - val_accuracy: 0.8516\n",
      "Epoch 36/100\n",
      "16387/16387 [==============================] - 6s 351us/sample - loss: 1.1309 - accuracy: 0.9147 - val_loss: 1.1953 - val_accuracy: 0.8470\n",
      "Epoch 37/100\n",
      "16387/16387 [==============================] - 6s 357us/sample - loss: 1.1315 - accuracy: 0.9149 - val_loss: 1.1898 - val_accuracy: 0.8501\n",
      "Epoch 38/100\n",
      "16387/16387 [==============================] - 6s 350us/sample - loss: 1.1292 - accuracy: 0.9173 - val_loss: 1.1892 - val_accuracy: 0.8527\n",
      "Epoch 39/100\n",
      "16387/16387 [==============================] - 6s 349us/sample - loss: 1.1283 - accuracy: 0.9169 - val_loss: 1.1894 - val_accuracy: 0.8542\n",
      "Epoch 40/100\n",
      "16387/16387 [==============================] - 6s 351us/sample - loss: 1.1270 - accuracy: 0.9186 - val_loss: 1.1893 - val_accuracy: 0.8522\n",
      "Epoch 41/100\n",
      "16387/16387 [==============================] - 6s 352us/sample - loss: 1.1257 - accuracy: 0.9203 - val_loss: 1.1850 - val_accuracy: 0.8578\n",
      "Epoch 42/100\n",
      "16387/16387 [==============================] - 6s 351us/sample - loss: 1.1235 - accuracy: 0.9224 - val_loss: 1.1994 - val_accuracy: 0.8378\n",
      "Epoch 43/100\n",
      "16387/16387 [==============================] - 6s 347us/sample - loss: 1.1248 - accuracy: 0.9203 - val_loss: 1.1860 - val_accuracy: 0.8568\n",
      "Epoch 44/100\n",
      "16387/16387 [==============================] - 6s 353us/sample - loss: 1.1229 - accuracy: 0.9223 - val_loss: 1.2164 - val_accuracy: 0.8280\n",
      "Epoch 45/100\n",
      "16387/16387 [==============================] - 6s 349us/sample - loss: 1.1245 - accuracy: 0.9207 - val_loss: 1.1876 - val_accuracy: 0.8563\n",
      "Epoch 46/100\n",
      "16387/16387 [==============================] - 6s 349us/sample - loss: 1.1210 - accuracy: 0.9257 - val_loss: 1.1872 - val_accuracy: 0.8557\n",
      "Epoch 47/100\n",
      "16387/16387 [==============================] - 6s 349us/sample - loss: 1.1183 - accuracy: 0.9276 - val_loss: 1.1843 - val_accuracy: 0.8588\n",
      "Epoch 48/100\n",
      "16387/16387 [==============================] - 6s 349us/sample - loss: 1.1168 - accuracy: 0.9287 - val_loss: 1.1863 - val_accuracy: 0.8563\n",
      "Epoch 49/100\n",
      "16387/16387 [==============================] - 6s 349us/sample - loss: 1.1168 - accuracy: 0.9291 - val_loss: 1.1825 - val_accuracy: 0.8599\n",
      "Epoch 50/100\n",
      "16387/16387 [==============================] - 6s 358us/sample - loss: 1.1164 - accuracy: 0.9300 - val_loss: 1.1893 - val_accuracy: 0.8532\n",
      "Epoch 51/100\n",
      "16387/16387 [==============================] - 6s 349us/sample - loss: 1.1148 - accuracy: 0.9307 - val_loss: 1.1818 - val_accuracy: 0.8614\n",
      "Epoch 52/100\n",
      "16387/16387 [==============================] - 6s 349us/sample - loss: 1.1153 - accuracy: 0.9299 - val_loss: 1.1841 - val_accuracy: 0.8609\n",
      "Epoch 53/100\n",
      "16387/16387 [==============================] - 6s 349us/sample - loss: 1.1131 - accuracy: 0.9326 - val_loss: 1.1842 - val_accuracy: 0.8588\n",
      "Epoch 54/100\n",
      "16387/16387 [==============================] - 6s 359us/sample - loss: 1.1126 - accuracy: 0.9324 - val_loss: 1.1836 - val_accuracy: 0.8593\n",
      "Epoch 55/100\n",
      "16387/16387 [==============================] - 6s 347us/sample - loss: 1.1130 - accuracy: 0.9325 - val_loss: 1.1849 - val_accuracy: 0.8552\n",
      "Epoch 56/100\n",
      "16387/16387 [==============================] - 6s 359us/sample - loss: 1.1127 - accuracy: 0.9332 - val_loss: 1.1831 - val_accuracy: 0.8588\n",
      "Epoch 57/100\n",
      "16387/16387 [==============================] - 6s 350us/sample - loss: 1.1104 - accuracy: 0.9353 - val_loss: 1.1774 - val_accuracy: 0.8665\n",
      "Epoch 58/100\n",
      "16387/16387 [==============================] - 6s 352us/sample - loss: 1.1106 - accuracy: 0.9346 - val_loss: 1.1867 - val_accuracy: 0.8578\n",
      "Epoch 59/100\n",
      "16387/16387 [==============================] - 6s 348us/sample - loss: 1.1112 - accuracy: 0.9338 - val_loss: 1.1806 - val_accuracy: 0.8624\n",
      "Epoch 60/100\n",
      "16387/16387 [==============================] - 6s 352us/sample - loss: 1.1090 - accuracy: 0.9356 - val_loss: 1.1853 - val_accuracy: 0.8578\n",
      "Epoch 61/100\n",
      "16387/16387 [==============================] - 6s 352us/sample - loss: 1.1094 - accuracy: 0.9358 - val_loss: 1.1790 - val_accuracy: 0.8645\n",
      "Epoch 62/100\n",
      "16387/16387 [==============================] - 6s 359us/sample - loss: 1.1084 - accuracy: 0.9374 - val_loss: 1.1806 - val_accuracy: 0.8634\n",
      "Epoch 63/100\n",
      "16387/16387 [==============================] - 6s 351us/sample - loss: 1.1071 - accuracy: 0.9385 - val_loss: 1.1868 - val_accuracy: 0.8588\n",
      "Epoch 64/100\n",
      "16387/16387 [==============================] - 6s 351us/sample - loss: 1.1073 - accuracy: 0.9379 - val_loss: 1.1853 - val_accuracy: 0.8593\n",
      "Epoch 65/100\n",
      "16387/16387 [==============================] - 6s 358us/sample - loss: 1.1048 - accuracy: 0.9410 - val_loss: 1.1847 - val_accuracy: 0.8593\n",
      "Epoch 66/100\n",
      "16387/16387 [==============================] - 6s 373us/sample - loss: 1.1037 - accuracy: 0.9414 - val_loss: 1.1803 - val_accuracy: 0.8634\n",
      "Epoch 67/100\n",
      "16387/16387 [==============================] - 6s 354us/sample - loss: 1.1049 - accuracy: 0.9406 - val_loss: 1.1843 - val_accuracy: 0.8578\n",
      "Epoch 68/100\n",
      "16387/16387 [==============================] - 6s 355us/sample - loss: 1.1040 - accuracy: 0.9412 - val_loss: 1.1822 - val_accuracy: 0.8640\n",
      "Epoch 69/100\n",
      "16387/16387 [==============================] - 6s 353us/sample - loss: 1.1039 - accuracy: 0.9412 - val_loss: 1.1845 - val_accuracy: 0.8557\n",
      "Epoch 70/100\n",
      "16387/16387 [==============================] - 6s 381us/sample - loss: 1.1041 - accuracy: 0.9412 - val_loss: 1.1855 - val_accuracy: 0.8557\n",
      "Epoch 71/100\n",
      "16387/16387 [==============================] - 6s 381us/sample - loss: 1.1034 - accuracy: 0.9420 - val_loss: 1.1810 - val_accuracy: 0.8634\n",
      "Epoch 72/100\n",
      "16387/16387 [==============================] - 6s 371us/sample - loss: 1.1021 - accuracy: 0.9440 - val_loss: 1.1821 - val_accuracy: 0.8619\n",
      "Epoch 73/100\n",
      "16387/16387 [==============================] - 7s 399us/sample - loss: 1.1033 - accuracy: 0.9421 - val_loss: 1.1860 - val_accuracy: 0.8557\n",
      "Epoch 74/100\n",
      "16387/16387 [==============================] - 6s 379us/sample - loss: 1.1017 - accuracy: 0.9439 - val_loss: 1.1810 - val_accuracy: 0.8645\n",
      "Epoch 75/100\n",
      "16387/16387 [==============================] - 6s 384us/sample - loss: 1.1012 - accuracy: 0.9441 - val_loss: 1.1815 - val_accuracy: 0.8604\n",
      "Epoch 76/100\n",
      "16387/16387 [==============================] - 6s 379us/sample - loss: 1.1010 - accuracy: 0.9440 - val_loss: 1.1803 - val_accuracy: 0.8624\n",
      "Epoch 77/100\n",
      "16387/16387 [==============================] - 6s 387us/sample - loss: 1.0997 - accuracy: 0.9452 - val_loss: 1.1838 - val_accuracy: 0.8604\n",
      "Epoch 78/100\n",
      "16387/16387 [==============================] - 6s 377us/sample - loss: 1.0986 - accuracy: 0.9467 - val_loss: 1.1819 - val_accuracy: 0.8634\n",
      "Epoch 79/100\n",
      "16387/16387 [==============================] - 6s 358us/sample - loss: 1.0996 - accuracy: 0.9456 - val_loss: 1.1822 - val_accuracy: 0.8624\n",
      "Epoch 80/100\n",
      "16387/16387 [==============================] - 6s 370us/sample - loss: 1.0977 - accuracy: 0.9475 - val_loss: 1.1814 - val_accuracy: 0.8665\n",
      "Epoch 81/100\n",
      "16387/16387 [==============================] - 6s 357us/sample - loss: 1.0989 - accuracy: 0.9463 - val_loss: 1.1832 - val_accuracy: 0.8609\n",
      "Epoch 82/100\n",
      "16387/16387 [==============================] - 6s 360us/sample - loss: 1.0989 - accuracy: 0.9464 - val_loss: 1.1826 - val_accuracy: 0.8588\n",
      "Epoch 83/100\n",
      "16387/16387 [==============================] - 6s 368us/sample - loss: 1.0982 - accuracy: 0.9467 - val_loss: 1.1811 - val_accuracy: 0.8640\n",
      "Epoch 84/100\n",
      "16387/16387 [==============================] - 6s 363us/sample - loss: 1.0975 - accuracy: 0.9483 - val_loss: 1.1788 - val_accuracy: 0.8681\n",
      "Epoch 85/100\n",
      "16387/16387 [==============================] - 6s 360us/sample - loss: 1.0962 - accuracy: 0.9492 - val_loss: 1.1828 - val_accuracy: 0.8583\n",
      "Epoch 86/100\n",
      "16387/16387 [==============================] - 6s 366us/sample - loss: 1.0967 - accuracy: 0.9480 - val_loss: 1.1833 - val_accuracy: 0.8599\n",
      "Epoch 87/100\n",
      "16387/16387 [==============================] - 6s 365us/sample - loss: 1.0967 - accuracy: 0.9486 - val_loss: 1.1789 - val_accuracy: 0.8670\n",
      "Epoch 88/100\n",
      "16387/16387 [==============================] - 6s 370us/sample - loss: 1.0958 - accuracy: 0.9490 - val_loss: 1.1794 - val_accuracy: 0.8665\n",
      "Epoch 89/100\n",
      "16387/16387 [==============================] - 6s 365us/sample - loss: 1.0970 - accuracy: 0.9476 - val_loss: 1.1834 - val_accuracy: 0.8583\n",
      "Epoch 90/100\n",
      "16387/16387 [==============================] - 6s 366us/sample - loss: 1.0955 - accuracy: 0.9498 - val_loss: 1.1842 - val_accuracy: 0.8573\n",
      "Epoch 91/100\n",
      "16387/16387 [==============================] - 6s 364us/sample - loss: 1.0961 - accuracy: 0.9484 - val_loss: 1.1871 - val_accuracy: 0.8542\n",
      "Epoch 92/100\n",
      "16387/16387 [==============================] - 6s 366us/sample - loss: 1.0951 - accuracy: 0.9500 - val_loss: 1.1860 - val_accuracy: 0.8557\n",
      "Epoch 93/100\n",
      "16387/16387 [==============================] - 6s 357us/sample - loss: 1.0944 - accuracy: 0.9506 - val_loss: 1.1811 - val_accuracy: 0.8619\n",
      "Epoch 94/100\n",
      "16387/16387 [==============================] - 6s 351us/sample - loss: 1.0947 - accuracy: 0.9500 - val_loss: 1.1849 - val_accuracy: 0.8583\n",
      "Epoch 95/100\n",
      "16387/16387 [==============================] - 6s 371us/sample - loss: 1.0949 - accuracy: 0.9499 - val_loss: 1.1837 - val_accuracy: 0.8604\n",
      "Epoch 96/100\n",
      "16387/16387 [==============================] - 6s 353us/sample - loss: 1.0935 - accuracy: 0.9511 - val_loss: 1.1829 - val_accuracy: 0.8599\n",
      "Epoch 97/100\n",
      "16387/16387 [==============================] - 6s 362us/sample - loss: 1.0929 - accuracy: 0.9518 - val_loss: 1.1783 - val_accuracy: 0.8650\n",
      "Epoch 98/100\n",
      "16387/16387 [==============================] - 6s 375us/sample - loss: 1.0928 - accuracy: 0.9522 - val_loss: 1.1827 - val_accuracy: 0.8599\n",
      "Epoch 99/100\n",
      "16387/16387 [==============================] - 6s 365us/sample - loss: 1.0932 - accuracy: 0.9520 - val_loss: 1.1832 - val_accuracy: 0.8604\n",
      "Epoch 100/100\n",
      "16387/16387 [==============================] - 6s 365us/sample - loss: 1.0931 - accuracy: 0.9516 - val_loss: 1.1795 - val_accuracy: 0.8640\n"
     ]
    }
   ],
   "source": [
    "EPOCHS = 100\n",
    "history = model.fit(\n",
    "    train2, \n",
    "  labels2,\n",
    "    validation_data=(valdata,vallabels),\n",
    "    epochs=EPOCHS,\n",
    ")"
   ]
  },
  {
   "cell_type": "code",
   "execution_count": 80,
   "metadata": {},
   "outputs": [],
   "source": [
    "model.save(\"my_h5_model1.h5\")"
   ]
  },
  {
   "cell_type": "code",
   "execution_count": 121,
   "metadata": {},
   "outputs": [
    {
     "name": "stdout",
     "output_type": "stream",
     "text": [
      "Train on 16387 samples, validate on 1948 samples\n",
      "Epoch 1/10\n",
      "16387/16387 [==============================] - 7s 445us/sample - loss: 1.3252 - accuracy: 0.7405 - val_loss: 1.2955 - val_accuracy: 0.7690\n",
      "Epoch 2/10\n",
      "16387/16387 [==============================] - 7s 445us/sample - loss: 1.3121 - accuracy: 0.7536 - val_loss: 1.2971 - val_accuracy: 0.7669\n",
      "Epoch 3/10\n",
      "16387/16387 [==============================] - 7s 444us/sample - loss: 1.3107 - accuracy: 0.7516 - val_loss: 1.3003 - val_accuracy: 0.7649\n",
      "Epoch 4/10\n",
      "16387/16387 [==============================] - 7s 446us/sample - loss: 1.2991 - accuracy: 0.7620 - val_loss: 1.2734 - val_accuracy: 0.7859\n",
      "Epoch 5/10\n",
      "16387/16387 [==============================] - 7s 445us/sample - loss: 1.2922 - accuracy: 0.7685 - val_loss: 1.6540 - val_accuracy: 0.3999\n",
      "Epoch 6/10\n",
      "16387/16387 [==============================] - 7s 444us/sample - loss: 1.2922 - accuracy: 0.7633 - val_loss: 1.2742 - val_accuracy: 0.7839\n",
      "Epoch 7/10\n",
      "16387/16387 [==============================] - 7s 440us/sample - loss: 1.2791 - accuracy: 0.7771 - val_loss: 1.2671 - val_accuracy: 0.7885\n",
      "Epoch 8/10\n",
      "16387/16387 [==============================] - 7s 443us/sample - loss: 1.2745 - accuracy: 0.7788 - val_loss: 1.2486 - val_accuracy: 0.8070\n",
      "Epoch 9/10\n",
      "16387/16387 [==============================] - 7s 448us/sample - loss: 1.2702 - accuracy: 0.7826 - val_loss: 1.2466 - val_accuracy: 0.8060\n",
      "Epoch 10/10\n",
      "16387/16387 [==============================] - 7s 443us/sample - loss: 1.2633 - accuracy: 0.7878 - val_loss: 1.2447 - val_accuracy: 0.8075\n"
     ]
    }
   ],
   "source": [
    "EPOCHS = 10\n",
    "history = model.fit(\n",
    "    train2, \n",
    "  labels2,\n",
    "    validation_data=(valdata,vallabels),\n",
    "    epochs=EPOCHS,\n",
    ")"
   ]
  },
  {
   "cell_type": "code",
   "execution_count": 90,
   "metadata": {},
   "outputs": [
    {
     "data": {
      "text/plain": [
       "array([2., 3., 0., ..., 5., 0., 1.])"
      ]
     },
     "execution_count": 90,
     "metadata": {},
     "output_type": "execute_result"
    }
   ],
   "source": [
    "test_ground_truth"
   ]
  },
  {
   "cell_type": "markdown",
   "metadata": {},
   "source": []
  },
  {
   "cell_type": "code",
   "execution_count": null,
   "metadata": {},
   "outputs": [],
   "source": []
  },
  {
   "cell_type": "code",
   "execution_count": 33,
   "metadata": {},
   "outputs": [
    {
     "data": {
      "image/png": "[encoded data removed]",
      "text/plain": [
       "<Figure size 432x288 with 1 Axes>"
      ]
     },
     "metadata": {
      "needs_background": "light"
     },
     "output_type": "display_data"
    }
   ],
   "source": [
    "metrics = history.history\n",
    "plt.plot(history.epoch, metrics['loss'], metrics['val_loss'])\n",
    "plt.legend(['loss', 'val_loss'])\n",
    "plt.show()"
   ]
  },
  {
   "cell_type": "code",
   "execution_count": 34,
   "metadata": {},
   "outputs": [],
   "source": [
    "model.save(\"my_h5_model_2rank.h5\")"
   ]
  },
  {
   "cell_type": "code",
   "execution_count": 36,
   "metadata": {},
   "outputs": [
    {
     "name": "stdout",
     "output_type": "stream",
     "text": [
      "Test set accuracy: 89%\n",
      "Confusion Matrix: \n",
      "\n",
      " [[ 78   4   1   0]\n",
      " [  0 143  14  49]\n",
      " [  2  15 387  15]\n",
      " [  1  21   3 380]]\n"
     ]
    }
   ],
   "source": [
    "#df = np.expand_dims(test_fingerprints,axis=2)\n",
    "y_pred = np.argmax(model.predict(test_fingerprints), axis=1)\n",
    "y_true = test_ground_truth\n",
    "test_acc = sum(y_pred == y_true) / len(y_true)\n",
    "print(f'Test set accuracy: {test_acc:.0%}')\n",
    "confusion_mtx = tf.math.confusion_matrix(y_true, y_pred) \n",
    "with tf.compat.v1.Session():\n",
    "      print('Confusion Matrix: \\n\\n', tf.Tensor.eval(confusion_mtx,feed_dict=None, session=None))\n",
    "    "
   ]
  },
  {
   "cell_type": "code",
   "execution_count": 97,
   "metadata": {},
   "outputs": [
    {
     "name": "stdout",
     "output_type": "stream",
     "text": [
      "INFO:tensorflow:Assets written to: /tmp/tmpooqjs023/assets\n"
     ]
    },
    {
     "ename": "NotImplementedError",
     "evalue": "numpy() is only available when eager execution is enabled.",
     "output_type": "error",
     "traceback": [
      "\u001b[0;31m---------------------------------------------------------------------------\u001b[0m",
      "\u001b[0;31mNotImplementedError\u001b[0m                       Traceback (most recent call last)",
      "\u001b[0;32m<ipython-input-97-3d0d066911dc>\u001b[0m in \u001b[0;36m<module>\u001b[0;34m\u001b[0m\n\u001b[1;32m      1\u001b[0m \u001b[0mconverter\u001b[0m \u001b[0;34m=\u001b[0m \u001b[0mtf\u001b[0m\u001b[0;34m.\u001b[0m\u001b[0mlite\u001b[0m\u001b[0;34m.\u001b[0m\u001b[0mTFLiteConverter\u001b[0m\u001b[0;34m.\u001b[0m\u001b[0mfrom_keras_model\u001b[0m\u001b[0;34m(\u001b[0m\u001b[0mmodel\u001b[0m\u001b[0;34m)\u001b[0m\u001b[0;34m\u001b[0m\u001b[0;34m\u001b[0m\u001b[0m\n\u001b[0;32m----> 2\u001b[0;31m \u001b[0mtflite_model\u001b[0m \u001b[0;34m=\u001b[0m \u001b[0mconverter\u001b[0m\u001b[0;34m.\u001b[0m\u001b[0mconvert\u001b[0m\u001b[0;34m(\u001b[0m\u001b[0;34m)\u001b[0m\u001b[0;34m\u001b[0m\u001b[0;34m\u001b[0m\u001b[0m\n\u001b[0m\u001b[1;32m      3\u001b[0m \u001b[0;34m\u001b[0m\u001b[0m\n\u001b[1;32m      4\u001b[0m \u001b[0;31m# Save the model.\u001b[0m\u001b[0;34m\u001b[0m\u001b[0;34m\u001b[0m\u001b[0;34m\u001b[0m\u001b[0m\n\u001b[1;32m      5\u001b[0m \u001b[0;32mwith\u001b[0m \u001b[0mopen\u001b[0m\u001b[0;34m(\u001b[0m\u001b[0;34m'model.tflite'\u001b[0m\u001b[0;34m,\u001b[0m \u001b[0;34m'wb'\u001b[0m\u001b[0;34m)\u001b[0m \u001b[0;32mas\u001b[0m \u001b[0mf\u001b[0m\u001b[0;34m:\u001b[0m\u001b[0;34m\u001b[0m\u001b[0;34m\u001b[0m\u001b[0m\n",
      "\u001b[0;32m~/anaconda3/envs/saad3.6/lib/python3.6/site-packages/tensorflow/lite/python/lite.py\u001b[0m in \u001b[0;36mconvert\u001b[0;34m(self)\u001b[0m\n\u001b[1;32m    807\u001b[0m     frozen_func, graph_def = (\n\u001b[1;32m    808\u001b[0m         _convert_to_constants.convert_variables_to_constants_v2_as_graph(\n\u001b[0;32m--> 809\u001b[0;31m             self._funcs[0], lower_control_flow=False))\n\u001b[0m\u001b[1;32m    810\u001b[0m \u001b[0;34m\u001b[0m\u001b[0m\n\u001b[1;32m    811\u001b[0m     input_tensors = [\n",
      "\u001b[0;32m~/anaconda3/envs/saad3.6/lib/python3.6/site-packages/tensorflow/python/framework/convert_to_constants.py\u001b[0m in \u001b[0;36mconvert_variables_to_constants_v2_as_graph\u001b[0;34m(func, lower_control_flow, aggressive_inlining)\u001b[0m\n\u001b[1;32m   1101\u001b[0m       \u001b[0mfunc\u001b[0m\u001b[0;34m=\u001b[0m\u001b[0mfunc\u001b[0m\u001b[0;34m,\u001b[0m\u001b[0;34m\u001b[0m\u001b[0;34m\u001b[0m\u001b[0m\n\u001b[1;32m   1102\u001b[0m       \u001b[0mlower_control_flow\u001b[0m\u001b[0;34m=\u001b[0m\u001b[0mlower_control_flow\u001b[0m\u001b[0;34m,\u001b[0m\u001b[0;34m\u001b[0m\u001b[0;34m\u001b[0m\u001b[0m\n\u001b[0;32m-> 1103\u001b[0;31m       aggressive_inlining=aggressive_inlining)\n\u001b[0m\u001b[1;32m   1104\u001b[0m \u001b[0;34m\u001b[0m\u001b[0m\n\u001b[1;32m   1105\u001b[0m   output_graph_def, converted_input_indices = _replace_variables_by_constants(\n",
      "\u001b[0;32m~/anaconda3/envs/saad3.6/lib/python3.6/site-packages/tensorflow/python/framework/convert_to_constants.py\u001b[0m in \u001b[0;36m__init__\u001b[0;34m(self, func, lower_control_flow, aggressive_inlining, variable_names_whitelist, variable_names_blacklist)\u001b[0m\n\u001b[1;32m    802\u001b[0m         \u001b[0mvariable_names_whitelist\u001b[0m\u001b[0;34m=\u001b[0m\u001b[0mvariable_names_whitelist\u001b[0m\u001b[0;34m,\u001b[0m\u001b[0;34m\u001b[0m\u001b[0;34m\u001b[0m\u001b[0m\n\u001b[1;32m    803\u001b[0m         variable_names_blacklist=variable_names_blacklist)\n\u001b[0;32m--> 804\u001b[0;31m     \u001b[0mself\u001b[0m\u001b[0;34m.\u001b[0m\u001b[0m_build_tensor_data\u001b[0m\u001b[0;34m(\u001b[0m\u001b[0;34m)\u001b[0m\u001b[0;34m\u001b[0m\u001b[0;34m\u001b[0m\u001b[0m\n\u001b[0m\u001b[1;32m    805\u001b[0m \u001b[0;34m\u001b[0m\u001b[0m\n\u001b[1;32m    806\u001b[0m   \u001b[0;32mdef\u001b[0m \u001b[0m_build_tensor_data\u001b[0m\u001b[0;34m(\u001b[0m\u001b[0mself\u001b[0m\u001b[0;34m)\u001b[0m\u001b[0;34m:\u001b[0m\u001b[0;34m\u001b[0m\u001b[0;34m\u001b[0m\u001b[0m\n",
      "\u001b[0;32m~/anaconda3/envs/saad3.6/lib/python3.6/site-packages/tensorflow/python/framework/convert_to_constants.py\u001b[0m in \u001b[0;36m_build_tensor_data\u001b[0;34m(self)\u001b[0m\n\u001b[1;32m    819\u001b[0m         \u001b[0;32mcontinue\u001b[0m\u001b[0;34m\u001b[0m\u001b[0;34m\u001b[0m\u001b[0m\n\u001b[1;32m    820\u001b[0m       \u001b[0;32mif\u001b[0m \u001b[0midx\u001b[0m \u001b[0;32min\u001b[0m \u001b[0mmap_index_to_variable\u001b[0m\u001b[0;34m:\u001b[0m\u001b[0;34m\u001b[0m\u001b[0;34m\u001b[0m\u001b[0m\n\u001b[0;32m--> 821\u001b[0;31m         \u001b[0mdata\u001b[0m \u001b[0;34m=\u001b[0m \u001b[0mmap_index_to_variable\u001b[0m\u001b[0;34m[\u001b[0m\u001b[0midx\u001b[0m\u001b[0;34m]\u001b[0m\u001b[0;34m.\u001b[0m\u001b[0mnumpy\u001b[0m\u001b[0;34m(\u001b[0m\u001b[0;34m)\u001b[0m\u001b[0;34m\u001b[0m\u001b[0;34m\u001b[0m\u001b[0m\n\u001b[0m\u001b[1;32m    822\u001b[0m       \u001b[0;32melse\u001b[0m\u001b[0;34m:\u001b[0m\u001b[0;34m\u001b[0m\u001b[0;34m\u001b[0m\u001b[0m\n\u001b[1;32m    823\u001b[0m         \u001b[0mdata\u001b[0m \u001b[0;34m=\u001b[0m \u001b[0mval_tensor\u001b[0m\u001b[0;34m.\u001b[0m\u001b[0mnumpy\u001b[0m\u001b[0;34m(\u001b[0m\u001b[0;34m)\u001b[0m\u001b[0;34m\u001b[0m\u001b[0;34m\u001b[0m\u001b[0m\n",
      "\u001b[0;32m~/anaconda3/envs/saad3.6/lib/python3.6/site-packages/tensorflow/python/ops/resource_variable_ops.py\u001b[0m in \u001b[0;36mnumpy\u001b[0;34m(self)\u001b[0m\n\u001b[1;32m    608\u001b[0m       \u001b[0;32mreturn\u001b[0m \u001b[0mself\u001b[0m\u001b[0;34m.\u001b[0m\u001b[0mread_value\u001b[0m\u001b[0;34m(\u001b[0m\u001b[0;34m)\u001b[0m\u001b[0;34m.\u001b[0m\u001b[0mnumpy\u001b[0m\u001b[0;34m(\u001b[0m\u001b[0;34m)\u001b[0m\u001b[0;34m\u001b[0m\u001b[0;34m\u001b[0m\u001b[0m\n\u001b[1;32m    609\u001b[0m     raise NotImplementedError(\n\u001b[0;32m--> 610\u001b[0;31m         \"numpy() is only available when eager execution is enabled.\")\n\u001b[0m\u001b[1;32m    611\u001b[0m \u001b[0;34m\u001b[0m\u001b[0m\n\u001b[1;32m    612\u001b[0m   \u001b[0;34m@\u001b[0m\u001b[0mdeprecated\u001b[0m\u001b[0;34m(\u001b[0m\u001b[0;32mNone\u001b[0m\u001b[0;34m,\u001b[0m \u001b[0;34m\"Prefer Dataset.range instead.\"\u001b[0m\u001b[0;34m)\u001b[0m\u001b[0;34m\u001b[0m\u001b[0;34m\u001b[0m\u001b[0m\n",
      "\u001b[0;31mNotImplementedError\u001b[0m: numpy() is only available when eager execution is enabled."
     ]
    }
   ],
   "source": [
    "converter = tf.lite.TFLiteConverter.from_keras_model(model)\n",
    "tflite_model = converter.convert()\n",
    "\n",
    "# Save the model.\n",
    "with open('model.tflite', 'wb') as f:\n",
    "  f.write(tflite_model)"
   ]
  },
  {
   "cell_type": "code",
   "execution_count": 43,
   "metadata": {},
   "outputs": [],
   "source": [
    "train = tf.data.Dataset.from_tensor_slices((train2,labels2))"
   ]
  },
  {
   "cell_type": "code",
   "execution_count": null,
   "metadata": {},
   "outputs": [],
   "source": [
    "test = tf.data.Dataset.from_tensor_slices((te))"
   ]
  },
  {
   "cell_type": "code",
   "execution_count": 44,
   "metadata": {},
   "outputs": [
    {
     "name": "stdout",
     "output_type": "stream",
     "text": [
      "Train on 8440 samples\n",
      "Epoch 1/10\n",
      "8440/8440 [==============================] - 17s 2ms/sample - loss: 1.2858 - accuracy: 0.4513\n",
      "Epoch 2/10\n",
      "8440/8440 [==============================] - 17s 2ms/sample - loss: 1.0876 - accuracy: 0.6556\n",
      "Epoch 3/10\n",
      "8440/8440 [==============================] - 17s 2ms/sample - loss: 1.0227 - accuracy: 0.7229\n",
      "Epoch 4/10\n",
      "8440/8440 [==============================] - 17s 2ms/sample - loss: 0.9814 - accuracy: 0.7629\n",
      "Epoch 5/10\n",
      "8440/8440 [==============================] - 18s 2ms/sample - loss: 0.9597 - accuracy: 0.7834\n",
      "Epoch 6/10\n",
      "8440/8440 [==============================] - 18s 2ms/sample - loss: 0.9428 - accuracy: 0.8017\n",
      "Epoch 7/10\n",
      "8440/8440 [==============================] - 17s 2ms/sample - loss: 0.9350 - accuracy: 0.8090\n",
      "Epoch 8/10\n",
      "8440/8440 [==============================] - 17s 2ms/sample - loss: 0.9247 - accuracy: 0.8191\n",
      "Epoch 9/10\n",
      "8440/8440 [==============================] - 18s 2ms/sample - loss: 0.9156 - accuracy: 0.8294\n",
      "Epoch 10/10\n",
      "8440/8440 [==============================] - 17s 2ms/sample - loss: 0.9102 - accuracy: 0.8326\n"
     ]
    }
   ],
   "source": [
    "model = tf.keras.Sequential()\n",
    "model.add(layers.Reshape((49, 40,1), input_shape=train2.shape[1:]))\n",
    "model.add(layers.Conv2D(128,3, activation='relu', input_shape=train2.shape[1:])) \n",
    "model.add(layers.Dropout(0.25))\n",
    "model.add(layers.MaxPool2D())\n",
    "model.add(layers.Conv2D(32, kernel_size=(3,3), activation='relu')) \n",
    "model.add(layers.Flatten()),\n",
    "model.add(layers.Dense(128, activation='relu')),\n",
    "model.add(layers.Dropout(0.5)),\n",
    "model.add(layers.Dense(4, activation='softmax'))\n",
    "model.compile(\n",
    "    optimizer=tf.keras.optimizers.SGD(),\n",
    "    loss=tf.keras.losses.SparseCategoricalCrossentropy(from_logits=True),\n",
    "    metrics=['accuracy'],\n",
    ")\n",
    "model.summary()\n",
    "EPOCHS = 10\n",
    "history = model.fit(\n",
    "    train2, \n",
    "  labels2,\n",
    "    epochs=EPOCHS,\n",
    ")"
   ]
  },
  {
   "cell_type": "code",
   "execution_count": 46,
   "metadata": {},
   "outputs": [
    {
     "name": "stdout",
     "output_type": "stream",
     "text": [
      "Train on 8440 samples, validate on 1112 samples\n",
      "Epoch 1/100\n",
      "8416/8440 [============================>.] - ETA: 0s - loss: 0.8993 - accuracy: 0.8434WARNING:tensorflow:From /home/aml/anaconda3/envs/saad3.6/lib/python3.6/site-packages/tensorflow/python/keras/engine/training_v1.py:2048: Model.state_updates (from tensorflow.python.keras.engine.training) is deprecated and will be removed in a future version.\n",
      "Instructions for updating:\n",
      "This property should not be used in TensorFlow 2.0, as updates are applied automatically.\n",
      "8440/8440 [==============================] - 18s 2ms/sample - loss: 0.8994 - accuracy: 0.8432 - val_loss: 0.9104 - val_accuracy: 0.8273\n",
      "Epoch 2/100\n",
      "8440/8440 [==============================] - 18s 2ms/sample - loss: 0.8983 - accuracy: 0.8443 - val_loss: 0.9071 - val_accuracy: 0.8381\n",
      "Epoch 3/100\n",
      "8440/8440 [==============================] - 18s 2ms/sample - loss: 0.8898 - accuracy: 0.8541 - val_loss: 0.9111 - val_accuracy: 0.8255\n",
      "Epoch 4/100\n",
      "8440/8440 [==============================] - 18s 2ms/sample - loss: 0.8824 - accuracy: 0.8640 - val_loss: 0.9010 - val_accuracy: 0.8435\n",
      "Epoch 5/100\n",
      "8440/8440 [==============================] - 18s 2ms/sample - loss: 0.8808 - accuracy: 0.8642 - val_loss: 0.9172 - val_accuracy: 0.8255\n",
      "Epoch 6/100\n",
      "8440/8440 [==============================] - 18s 2ms/sample - loss: 0.8768 - accuracy: 0.8668 - val_loss: 0.8959 - val_accuracy: 0.8444\n",
      "Epoch 7/100\n",
      "8440/8440 [==============================] - 18s 2ms/sample - loss: 0.8735 - accuracy: 0.8709 - val_loss: 0.9015 - val_accuracy: 0.8354\n",
      "Epoch 8/100\n",
      "8440/8440 [==============================] - 18s 2ms/sample - loss: 0.8677 - accuracy: 0.8769 - val_loss: 0.8950 - val_accuracy: 0.8471\n",
      "Epoch 9/100\n",
      "8440/8440 [==============================] - 18s 2ms/sample - loss: 0.8630 - accuracy: 0.8832 - val_loss: 0.8910 - val_accuracy: 0.8480\n",
      "Epoch 10/100\n",
      "8440/8440 [==============================] - 18s 2ms/sample - loss: 0.8606 - accuracy: 0.8850 - val_loss: 0.8972 - val_accuracy: 0.8426\n",
      "Epoch 11/100\n",
      "8440/8440 [==============================] - 18s 2ms/sample - loss: 0.8542 - accuracy: 0.8903 - val_loss: 0.8886 - val_accuracy: 0.8498\n",
      "Epoch 12/100\n",
      "8440/8440 [==============================] - 18s 2ms/sample - loss: 0.8551 - accuracy: 0.8892 - val_loss: 0.8916 - val_accuracy: 0.8471\n",
      "Epoch 13/100\n",
      "8440/8440 [==============================] - 18s 2ms/sample - loss: 0.8493 - accuracy: 0.8953 - val_loss: 0.8886 - val_accuracy: 0.8498\n",
      "Epoch 14/100\n",
      "8440/8440 [==============================] - 18s 2ms/sample - loss: 0.8487 - accuracy: 0.8966 - val_loss: 0.8863 - val_accuracy: 0.8561\n",
      "Epoch 15/100\n",
      "8440/8440 [==============================] - 18s 2ms/sample - loss: 0.8472 - accuracy: 0.8967 - val_loss: 0.8928 - val_accuracy: 0.8489\n",
      "Epoch 16/100\n",
      "8440/8440 [==============================] - 18s 2ms/sample - loss: 0.8447 - accuracy: 0.8999 - val_loss: 0.8881 - val_accuracy: 0.8489\n",
      "Epoch 17/100\n",
      "8440/8440 [==============================] - 18s 2ms/sample - loss: 0.8370 - accuracy: 0.9084 - val_loss: 0.8827 - val_accuracy: 0.8543\n",
      "Epoch 18/100\n",
      "8440/8440 [==============================] - 18s 2ms/sample - loss: 0.8356 - accuracy: 0.9100 - val_loss: 0.8835 - val_accuracy: 0.8642\n",
      "Epoch 19/100\n",
      "8440/8440 [==============================] - 18s 2ms/sample - loss: 0.8335 - accuracy: 0.9111 - val_loss: 0.8828 - val_accuracy: 0.8606\n",
      "Epoch 20/100\n",
      "8440/8440 [==============================] - 18s 2ms/sample - loss: 0.8299 - accuracy: 0.9159 - val_loss: 0.8832 - val_accuracy: 0.8570\n",
      "Epoch 21/100\n",
      "8440/8440 [==============================] - 18s 2ms/sample - loss: 0.8317 - accuracy: 0.9128 - val_loss: 0.8813 - val_accuracy: 0.8678\n",
      "Epoch 22/100\n",
      "8440/8440 [==============================] - 18s 2ms/sample - loss: 0.8287 - accuracy: 0.9162 - val_loss: 0.8788 - val_accuracy: 0.8642\n",
      "Epoch 23/100\n",
      "8440/8440 [==============================] - 18s 2ms/sample - loss: 0.8226 - accuracy: 0.9224 - val_loss: 0.8764 - val_accuracy: 0.8669\n",
      "Epoch 24/100\n",
      "8440/8440 [==============================] - 18s 2ms/sample - loss: 0.8216 - accuracy: 0.9236 - val_loss: 0.8752 - val_accuracy: 0.8687\n",
      "Epoch 25/100\n",
      "8440/8440 [==============================] - 18s 2ms/sample - loss: 0.8187 - accuracy: 0.9257 - val_loss: 0.8759 - val_accuracy: 0.8633\n",
      "Epoch 26/100\n",
      "8440/8440 [==============================] - 18s 2ms/sample - loss: 0.8169 - accuracy: 0.9294 - val_loss: 0.8731 - val_accuracy: 0.8687\n",
      "Epoch 27/100\n",
      "8440/8440 [==============================] - 18s 2ms/sample - loss: 0.8171 - accuracy: 0.9284 - val_loss: 0.8792 - val_accuracy: 0.8615\n",
      "Epoch 28/100\n",
      "8440/8440 [==============================] - 18s 2ms/sample - loss: 0.8169 - accuracy: 0.9288 - val_loss: 0.8748 - val_accuracy: 0.8660\n",
      "Epoch 29/100\n",
      "8440/8440 [==============================] - 18s 2ms/sample - loss: 0.8137 - accuracy: 0.9308 - val_loss: 0.8696 - val_accuracy: 0.8750\n",
      "Epoch 30/100\n",
      "8440/8440 [==============================] - 18s 2ms/sample - loss: 0.8121 - accuracy: 0.9336 - val_loss: 0.8754 - val_accuracy: 0.8678\n",
      "Epoch 31/100\n",
      "8440/8440 [==============================] - 18s 2ms/sample - loss: 0.8118 - accuracy: 0.9345 - val_loss: 0.8681 - val_accuracy: 0.8750\n",
      "Epoch 32/100\n",
      "8440/8440 [==============================] - 18s 2ms/sample - loss: 0.8096 - accuracy: 0.9360 - val_loss: 0.8725 - val_accuracy: 0.8696\n",
      "Epoch 33/100\n",
      "8440/8440 [==============================] - 18s 2ms/sample - loss: 0.8105 - accuracy: 0.9342 - val_loss: 0.8735 - val_accuracy: 0.8669\n",
      "Epoch 34/100\n",
      "8440/8440 [==============================] - 18s 2ms/sample - loss: 0.8055 - accuracy: 0.9386 - val_loss: 0.8659 - val_accuracy: 0.8786\n",
      "Epoch 35/100\n",
      "8440/8440 [==============================] - 18s 2ms/sample - loss: 0.8052 - accuracy: 0.9408 - val_loss: 0.8745 - val_accuracy: 0.8660\n",
      "Epoch 36/100\n",
      "8440/8440 [==============================] - 18s 2ms/sample - loss: 0.8035 - accuracy: 0.9408 - val_loss: 0.8883 - val_accuracy: 0.8480\n",
      "Epoch 37/100\n",
      "8440/8440 [==============================] - 18s 2ms/sample - loss: 0.8012 - accuracy: 0.9449 - val_loss: 0.8667 - val_accuracy: 0.8741\n",
      "Epoch 38/100\n",
      "8440/8440 [==============================] - 18s 2ms/sample - loss: 0.8050 - accuracy: 0.9398 - val_loss: 0.8757 - val_accuracy: 0.8678\n",
      "Epoch 39/100\n",
      "8440/8440 [==============================] - 18s 2ms/sample - loss: 0.7992 - accuracy: 0.9463 - val_loss: 0.8771 - val_accuracy: 0.8624\n",
      "Epoch 40/100\n",
      "8440/8440 [==============================] - 18s 2ms/sample - loss: 0.7983 - accuracy: 0.9463 - val_loss: 0.8746 - val_accuracy: 0.8633\n",
      "Epoch 41/100\n",
      "8440/8440 [==============================] - 18s 2ms/sample - loss: 0.7977 - accuracy: 0.9486 - val_loss: 0.8651 - val_accuracy: 0.8777\n",
      "Epoch 42/100\n",
      "8440/8440 [==============================] - 18s 2ms/sample - loss: 0.7979 - accuracy: 0.9470 - val_loss: 0.8685 - val_accuracy: 0.8723\n",
      "Epoch 43/100\n",
      "8440/8440 [==============================] - 18s 2ms/sample - loss: 0.7945 - accuracy: 0.9494 - val_loss: 0.8678 - val_accuracy: 0.8750\n",
      "Epoch 44/100\n",
      "8440/8440 [==============================] - 18s 2ms/sample - loss: 0.7937 - accuracy: 0.9514 - val_loss: 0.8691 - val_accuracy: 0.8750\n",
      "Epoch 45/100\n",
      "8440/8440 [==============================] - 18s 2ms/sample - loss: 0.7928 - accuracy: 0.9539 - val_loss: 0.8648 - val_accuracy: 0.8723\n",
      "Epoch 46/100\n",
      "8440/8440 [==============================] - 18s 2ms/sample - loss: 0.7918 - accuracy: 0.9526 - val_loss: 0.8650 - val_accuracy: 0.8732\n",
      "Epoch 47/100\n",
      "8440/8440 [==============================] - 18s 2ms/sample - loss: 0.7903 - accuracy: 0.9549 - val_loss: 0.8622 - val_accuracy: 0.8822\n",
      "Epoch 48/100\n",
      "8440/8440 [==============================] - 18s 2ms/sample - loss: 0.7924 - accuracy: 0.9521 - val_loss: 0.8675 - val_accuracy: 0.8714\n",
      "Epoch 49/100\n",
      "8440/8440 [==============================] - 18s 2ms/sample - loss: 0.7898 - accuracy: 0.9555 - val_loss: 0.8655 - val_accuracy: 0.8786\n",
      "Epoch 50/100\n",
      "8440/8440 [==============================] - 18s 2ms/sample - loss: 0.7887 - accuracy: 0.9570 - val_loss: 0.8722 - val_accuracy: 0.8633\n",
      "Epoch 51/100\n",
      "8440/8440 [==============================] - 18s 2ms/sample - loss: 0.7876 - accuracy: 0.9572 - val_loss: 0.8687 - val_accuracy: 0.8741\n",
      "Epoch 52/100\n",
      "8440/8440 [==============================] - 17s 2ms/sample - loss: 0.7867 - accuracy: 0.9585 - val_loss: 0.8705 - val_accuracy: 0.8642\n",
      "Epoch 53/100\n",
      "8440/8440 [==============================] - 18s 2ms/sample - loss: 0.7881 - accuracy: 0.9562 - val_loss: 0.8681 - val_accuracy: 0.8732\n",
      "Epoch 54/100\n",
      "8440/8440 [==============================] - 18s 2ms/sample - loss: 0.7872 - accuracy: 0.9570 - val_loss: 0.8691 - val_accuracy: 0.8705\n",
      "Epoch 55/100\n",
      "8440/8440 [==============================] - 18s 2ms/sample - loss: 0.7858 - accuracy: 0.9585 - val_loss: 0.8675 - val_accuracy: 0.8705\n",
      "Epoch 56/100\n",
      "8440/8440 [==============================] - 18s 2ms/sample - loss: 0.7833 - accuracy: 0.9607 - val_loss: 0.8693 - val_accuracy: 0.8687\n",
      "Epoch 57/100\n",
      "8440/8440 [==============================] - 18s 2ms/sample - loss: 0.7868 - accuracy: 0.9583 - val_loss: 0.8699 - val_accuracy: 0.8732\n",
      "Epoch 58/100\n",
      "8440/8440 [==============================] - 18s 2ms/sample - loss: 0.7821 - accuracy: 0.9629 - val_loss: 0.8666 - val_accuracy: 0.8714\n",
      "Epoch 59/100\n",
      "8440/8440 [==============================] - 18s 2ms/sample - loss: 0.7808 - accuracy: 0.9643 - val_loss: 0.8723 - val_accuracy: 0.8696\n",
      "Epoch 60/100\n",
      "8440/8440 [==============================] - 18s 2ms/sample - loss: 0.7831 - accuracy: 0.9621 - val_loss: 0.8776 - val_accuracy: 0.8678\n",
      "Epoch 61/100\n",
      "8440/8440 [==============================] - 18s 2ms/sample - loss: 0.7824 - accuracy: 0.9628 - val_loss: 0.8745 - val_accuracy: 0.8624\n",
      "Epoch 62/100\n",
      "8440/8440 [==============================] - 18s 2ms/sample - loss: 0.7782 - accuracy: 0.9675 - val_loss: 0.8668 - val_accuracy: 0.8732\n",
      "Epoch 63/100\n",
      "8440/8440 [==============================] - 18s 2ms/sample - loss: 0.7802 - accuracy: 0.9643 - val_loss: 0.8761 - val_accuracy: 0.8642\n",
      "Epoch 64/100\n",
      "8440/8440 [==============================] - 18s 2ms/sample - loss: 0.7782 - accuracy: 0.9673 - val_loss: 0.8780 - val_accuracy: 0.8642\n",
      "Epoch 65/100\n",
      "8440/8440 [==============================] - 18s 2ms/sample - loss: 0.7787 - accuracy: 0.9656 - val_loss: 0.8785 - val_accuracy: 0.8606\n",
      "Epoch 66/100\n",
      "8440/8440 [==============================] - 18s 2ms/sample - loss: 0.7799 - accuracy: 0.9654 - val_loss: 0.8623 - val_accuracy: 0.8768\n",
      "Epoch 67/100\n",
      "8440/8440 [==============================] - 18s 2ms/sample - loss: 0.7778 - accuracy: 0.9669 - val_loss: 0.8785 - val_accuracy: 0.8606\n",
      "Epoch 68/100\n",
      "8440/8440 [==============================] - 18s 2ms/sample - loss: 0.7767 - accuracy: 0.9675 - val_loss: 0.8590 - val_accuracy: 0.8858\n",
      "Epoch 69/100\n",
      "8440/8440 [==============================] - 18s 2ms/sample - loss: 0.7765 - accuracy: 0.9686 - val_loss: 0.8671 - val_accuracy: 0.8741\n",
      "Epoch 70/100\n",
      "8440/8440 [==============================] - 18s 2ms/sample - loss: 0.7755 - accuracy: 0.9694 - val_loss: 0.8721 - val_accuracy: 0.8669\n",
      "Epoch 71/100\n",
      "8440/8440 [==============================] - 18s 2ms/sample - loss: 0.7753 - accuracy: 0.9692 - val_loss: 0.8662 - val_accuracy: 0.8723\n",
      "Epoch 72/100\n",
      "8440/8440 [==============================] - 18s 2ms/sample - loss: 0.7735 - accuracy: 0.9716 - val_loss: 0.8656 - val_accuracy: 0.8750\n",
      "Epoch 73/100\n",
      "8440/8440 [==============================] - 18s 2ms/sample - loss: 0.7735 - accuracy: 0.9707 - val_loss: 0.8676 - val_accuracy: 0.8741\n",
      "Epoch 74/100\n",
      "8440/8440 [==============================] - 18s 2ms/sample - loss: 0.7732 - accuracy: 0.9723 - val_loss: 0.8602 - val_accuracy: 0.8804\n",
      "Epoch 75/100\n",
      "8440/8440 [==============================] - 18s 2ms/sample - loss: 0.7734 - accuracy: 0.9714 - val_loss: 0.8603 - val_accuracy: 0.8822\n",
      "Epoch 76/100\n",
      "8440/8440 [==============================] - 18s 2ms/sample - loss: 0.7728 - accuracy: 0.9716 - val_loss: 0.8635 - val_accuracy: 0.8804\n",
      "Epoch 77/100\n",
      "8440/8440 [==============================] - 18s 2ms/sample - loss: 0.7730 - accuracy: 0.9716 - val_loss: 0.8621 - val_accuracy: 0.8822\n",
      "Epoch 78/100\n",
      "8440/8440 [==============================] - 18s 2ms/sample - loss: 0.7732 - accuracy: 0.9716 - val_loss: 0.8632 - val_accuracy: 0.8750\n",
      "Epoch 79/100\n",
      "8440/8440 [==============================] - 18s 2ms/sample - loss: 0.7732 - accuracy: 0.9718 - val_loss: 0.8673 - val_accuracy: 0.8759\n",
      "Epoch 80/100\n",
      "8440/8440 [==============================] - 18s 2ms/sample - loss: 0.7713 - accuracy: 0.9737 - val_loss: 0.8711 - val_accuracy: 0.8714\n",
      "Epoch 81/100\n",
      "8440/8440 [==============================] - 18s 2ms/sample - loss: 0.7716 - accuracy: 0.9731 - val_loss: 0.8639 - val_accuracy: 0.8777\n",
      "Epoch 82/100\n",
      "8440/8440 [==============================] - 18s 2ms/sample - loss: 0.7712 - accuracy: 0.9732 - val_loss: 0.8696 - val_accuracy: 0.8714\n",
      "Epoch 83/100\n",
      "8440/8440 [==============================] - 18s 2ms/sample - loss: 0.7696 - accuracy: 0.9755 - val_loss: 0.8655 - val_accuracy: 0.8741\n",
      "Epoch 84/100\n",
      "8440/8440 [==============================] - 18s 2ms/sample - loss: 0.7704 - accuracy: 0.9742 - val_loss: 0.8653 - val_accuracy: 0.8741\n",
      "Epoch 85/100\n",
      "8440/8440 [==============================] - 18s 2ms/sample - loss: 0.7694 - accuracy: 0.9751 - val_loss: 0.8672 - val_accuracy: 0.8723\n",
      "Epoch 86/100\n",
      "8440/8440 [==============================] - 18s 2ms/sample - loss: 0.7693 - accuracy: 0.9754 - val_loss: 0.8672 - val_accuracy: 0.8741\n",
      "Epoch 87/100\n",
      "8440/8440 [==============================] - 18s 2ms/sample - loss: 0.7708 - accuracy: 0.9737 - val_loss: 0.8612 - val_accuracy: 0.8777\n",
      "Epoch 88/100\n",
      "8440/8440 [==============================] - 18s 2ms/sample - loss: 0.7683 - accuracy: 0.9765 - val_loss: 0.8619 - val_accuracy: 0.8813\n",
      "Epoch 89/100\n",
      "8440/8440 [==============================] - 18s 2ms/sample - loss: 0.7691 - accuracy: 0.9756 - val_loss: 0.8609 - val_accuracy: 0.8804\n",
      "Epoch 90/100\n",
      "8440/8440 [==============================] - 18s 2ms/sample - loss: 0.7691 - accuracy: 0.9758 - val_loss: 0.8609 - val_accuracy: 0.8786\n",
      "Epoch 91/100\n",
      "8440/8440 [==============================] - 18s 2ms/sample - loss: 0.7688 - accuracy: 0.9761 - val_loss: 0.8598 - val_accuracy: 0.8804\n",
      "Epoch 92/100\n",
      "8440/8440 [==============================] - 18s 2ms/sample - loss: 0.7693 - accuracy: 0.9752 - val_loss: 0.8605 - val_accuracy: 0.8831\n",
      "Epoch 93/100\n",
      "8440/8440 [==============================] - 18s 2ms/sample - loss: 0.7685 - accuracy: 0.9767 - val_loss: 0.8573 - val_accuracy: 0.8813\n",
      "Epoch 94/100\n",
      "8440/8440 [==============================] - 18s 2ms/sample - loss: 0.7679 - accuracy: 0.9767 - val_loss: 0.8558 - val_accuracy: 0.8858\n",
      "Epoch 95/100\n",
      "8440/8440 [==============================] - 18s 2ms/sample - loss: 0.7689 - accuracy: 0.9758 - val_loss: 0.8621 - val_accuracy: 0.8786\n",
      "Epoch 96/100\n",
      "8440/8440 [==============================] - 18s 2ms/sample - loss: 0.7687 - accuracy: 0.9755 - val_loss: 0.8584 - val_accuracy: 0.8777\n",
      "Epoch 97/100\n",
      "8440/8440 [==============================] - 18s 2ms/sample - loss: 0.7669 - accuracy: 0.9781 - val_loss: 0.8611 - val_accuracy: 0.8786\n",
      "Epoch 98/100\n",
      "8440/8440 [==============================] - 18s 2ms/sample - loss: 0.7682 - accuracy: 0.9762 - val_loss: 0.8593 - val_accuracy: 0.8831\n",
      "Epoch 99/100\n",
      "8440/8440 [==============================] - 18s 2ms/sample - loss: 0.7689 - accuracy: 0.9757 - val_loss: 0.8549 - val_accuracy: 0.8858\n",
      "Epoch 100/100\n",
      "8440/8440 [==============================] - 18s 2ms/sample - loss: 0.7651 - accuracy: 0.9802 - val_loss: 0.8589 - val_accuracy: 0.8813\n"
     ]
    }
   ],
   "source": [
    "EPOCHS = 100\n",
    "history = model.fit(\n",
    "    train2, \n",
    "  labels2,validation_data=(valdata,vallabels),\n",
    "    epochs=EPOCHS\n",
    ")"
   ]
  },
  {
   "cell_type": "code",
   "execution_count": 37,
   "metadata": {},
   "outputs": [
    {
     "data": {
      "text/plain": [
       "'one,two,three,four,five'"
      ]
     },
     "execution_count": 37,
     "metadata": {},
     "output_type": "execute_result"
    }
   ],
   "source": [
    "WANTED_WORDS"
   ]
  },
  {
   "cell_type": "code",
   "execution_count": null,
   "metadata": {},
   "outputs": [],
   "source": [
    "with tf.compat.v1.Session() as sess:\n",
    "    val_fingerprints, val_ground_truth = audio_processor.get_data(-1,0, model_settings,BACKGROUND_FREQUENCY, BACKGROUND_VOLUME_RANGE,\n",
    "        TIME_SHIFT_MS, 'validation', sess)"
   ]
  },
  {
   "cell_type": "code",
   "execution_count": 51,
   "metadata": {},
   "outputs": [],
   "source": [
    "  with tf.compat.v1.Session() as sess:\n",
    "    test_data, test_labels = audio_processor.get_data(\n",
    "        -1, 0, model_settings, BACKGROUND_FREQUENCY, BACKGROUND_VOLUME_RANGE,\n",
    "        TIME_SHIFT_MS, 'validation', sess)\n",
    "    test_data = np.expand_dims(test_data, axis=2).astype(np.float32)"
   ]
  },
  {
   "cell_type": "code",
   "execution_count": 55,
   "metadata": {},
   "outputs": [
    {
     "data": {
      "text/plain": [
       "(8440, 1960, 1)"
      ]
     },
     "execution_count": 55,
     "metadata": {},
     "output_type": "execute_result"
    }
   ],
   "source": [
    "train2.shape"
   ]
  },
  {
   "cell_type": "code",
   "execution_count": 52,
   "metadata": {},
   "outputs": [
    {
     "data": {
      "text/plain": [
       "(940, 1960, 1)"
      ]
     },
     "execution_count": 52,
     "metadata": {},
     "output_type": "execute_result"
    }
   ],
   "source": [
    "test_data.shape"
   ]
  },
  {
   "cell_type": "code",
   "execution_count": 57,
   "metadata": {},
   "outputs": [
    {
     "data": {
      "text/plain": [
       "(8440, 1)"
      ]
     },
     "execution_count": 57,
     "metadata": {},
     "output_type": "execute_result"
    }
   ],
   "source": [
    "labels2.shape"
   ]
  },
  {
   "cell_type": "code",
   "execution_count": 58,
   "metadata": {},
   "outputs": [
    {
     "data": {
      "text/plain": [
       "(1960, 1)"
      ]
     },
     "execution_count": 58,
     "metadata": {},
     "output_type": "execute_result"
    }
   ],
   "source": [
    "test_data[0].shape"
   ]
  },
  {
   "cell_type": "code",
   "execution_count": 62,
   "metadata": {},
   "outputs": [],
   "source": [
    "df=np.expand_dims(test_data[1],axis=0)"
   ]
  },
  {
   "cell_type": "code",
   "execution_count": 63,
   "metadata": {},
   "outputs": [
    {
     "data": {
      "text/plain": [
       "array([[5.6066353e-11, 9.9336100e-01, 6.6390340e-03, 9.3249627e-13]],\n",
       "      dtype=float32)"
      ]
     },
     "execution_count": 63,
     "metadata": {},
     "output_type": "execute_result"
    }
   ],
   "source": [
    "model.predict(df)"
   ]
  },
  {
   "cell_type": "code",
   "execution_count": 70,
   "metadata": {},
   "outputs": [
    {
     "data": {
      "text/plain": [
       "1.0"
      ]
     },
     "execution_count": 70,
     "metadata": {},
     "output_type": "execute_result"
    }
   ],
   "source": [
    "test_labels[1]"
   ]
  },
  {
   "cell_type": "code",
   "execution_count": 71,
   "metadata": {},
   "outputs": [
    {
     "name": "stdout",
     "output_type": "stream",
     "text": [
      "Test set accuracy: 89%\n"
     ]
    }
   ],
   "source": [
    "np.expand_dims(test_data[1],axis=0)\n",
    "y_pred = np.argmax(model.predict(test_data), axis=1)\n",
    "y_true = test_labels\n",
    "\n",
    "test_acc = sum(y_pred == y_true) / len(y_true)\n",
    "print(f'Test set accuracy: {test_acc:.0%}')\n",
    "confusion_mtx = tf.math.confusion_matrix(y_true, y_pred) \n",
    "with tf.compat.v1.Session():\n",
    "   print('Confusion Matrix: \\n\\n', tf.Tensor.eval(confusion_mtx,feed_dict=None, session=None))"
   ]
  },
  {
   "cell_type": "code",
   "execution_count": 84,
   "metadata": {},
   "outputs": [
    {
     "name": "stdout",
     "output_type": "stream",
     "text": [
      "Confusion Matrix: \n",
      "\n",
      " [[ 66   1   1   2]\n",
      " [  0 120  22  32]\n",
      " [  3  17 324   7]\n",
      " [  0  13   2 330]]\n"
     ]
    }
   ],
   "source": [
    "\n",
    "\n"
   ]
  },
  {
   "cell_type": "code",
   "execution_count": 61,
   "metadata": {},
   "outputs": [
    {
     "data": {
      "text/plain": [
       "array([2])"
      ]
     },
     "execution_count": 61,
     "metadata": {},
     "output_type": "execute_result"
    }
   ],
   "source": []
  },
  {
   "cell_type": "code",
   "execution_count": 122,
   "metadata": {},
   "outputs": [],
   "source": [
    "model.save('kwsm.h5')"
   ]
  },
  {
   "cell_type": "code",
   "execution_count": 96,
   "metadata": {},
   "outputs": [
    {
     "ename": "AttributeError",
     "evalue": "module 'tensorflow' has no attribute 'Session'",
     "output_type": "error",
     "traceback": [
      "\u001b[0;31m---------------------------------------------------------------------------\u001b[0m",
      "\u001b[0;31mAttributeError\u001b[0m                            Traceback (most recent call last)",
      "\u001b[0;32m<ipython-input-96-e947df5f9d04>\u001b[0m in \u001b[0;36m<module>\u001b[0;34m\u001b[0m\n\u001b[0;32m----> 1\u001b[0;31m \u001b[0;32mwith\u001b[0m \u001b[0mtf\u001b[0m\u001b[0;34m.\u001b[0m\u001b[0mSession\u001b[0m\u001b[0;34m(\u001b[0m\u001b[0;34m)\u001b[0m \u001b[0;32mas\u001b[0m \u001b[0msess\u001b[0m\u001b[0;34m:\u001b[0m\u001b[0;34m\u001b[0m\u001b[0;34m\u001b[0m\u001b[0m\n\u001b[0m\u001b[1;32m      2\u001b[0m   \u001b[0mfloat_converter\u001b[0m \u001b[0;34m=\u001b[0m \u001b[0mtf\u001b[0m\u001b[0;34m.\u001b[0m\u001b[0mlite\u001b[0m\u001b[0;34m.\u001b[0m\u001b[0mTFLiteConverter\u001b[0m\u001b[0;34m.\u001b[0m\u001b[0mfrom_keras_model\u001b[0m\u001b[0;34m(\u001b[0m\u001b[0mmodel\u001b[0m\u001b[0;34m)\u001b[0m\u001b[0;34m\u001b[0m\u001b[0;34m\u001b[0m\u001b[0m\n\u001b[1;32m      3\u001b[0m   \u001b[0mfloat_tflite_model\u001b[0m \u001b[0;34m=\u001b[0m \u001b[0mfloat_converter\u001b[0m\u001b[0;34m.\u001b[0m\u001b[0mconvert\u001b[0m\u001b[0;34m(\u001b[0m\u001b[0;34m)\u001b[0m\u001b[0;34m\u001b[0m\u001b[0;34m\u001b[0m\u001b[0m\n\u001b[1;32m      4\u001b[0m   \u001b[0mfloat_tflite_model_size\u001b[0m \u001b[0;34m=\u001b[0m \u001b[0mopen\u001b[0m\u001b[0;34m(\u001b[0m\u001b[0mFLOAT_MODEL_TFLITE\u001b[0m\u001b[0;34m,\u001b[0m \u001b[0;34m\"wb\"\u001b[0m\u001b[0;34m)\u001b[0m\u001b[0;34m.\u001b[0m\u001b[0mwrite\u001b[0m\u001b[0;34m(\u001b[0m\u001b[0mfloat_tflite_model\u001b[0m\u001b[0;34m)\u001b[0m\u001b[0;34m\u001b[0m\u001b[0;34m\u001b[0m\u001b[0m\n\u001b[1;32m      5\u001b[0m   \u001b[0mprint\u001b[0m\u001b[0;34m(\u001b[0m\u001b[0;34m\"Float model is %d bytes\"\u001b[0m \u001b[0;34m%\u001b[0m \u001b[0mfloat_tflite_model_size\u001b[0m\u001b[0;34m)\u001b[0m\u001b[0;34m\u001b[0m\u001b[0;34m\u001b[0m\u001b[0m\n",
      "\u001b[0;31mAttributeError\u001b[0m: module 'tensorflow' has no attribute 'Session'"
     ]
    }
   ],
   "source": [
    "with tf.Session() as sess:\n",
    "  float_converter = tf.lite.TFLiteConverter.from_keras_model(model)\n",
    "  float_tflite_model = float_converter.convert()\n",
    "  float_tflite_model_size = open(FLOAT_MODEL_TFLITE, \"wb\").write(float_tflite_model)\n",
    "  print(\"Float model is %d bytes\" % float_tflite_model_size)\n",
    "\n",
    "  converter = tf.lite.TFLiteConverter.from_saved_model(SAVED_MODEL)\n",
    "  converter.optimizations = [tf.lite.Optimize.DEFAULT]\n",
    "  converter.inference_input_type = tf.lite.constants.INT8\n",
    "  converter.inference_output_type = tf.lite.constants.INT8\n",
    "  def representative_dataset_gen():\n",
    "    for i in range(100):\n",
    "      data, _ = audio_processor.get_data(1, i*1, model_settings,\n",
    "                                         BACKGROUND_FREQUENCY, \n",
    "                                         BACKGROUND_VOLUME_RANGE,\n",
    "                                         TIME_SHIFT_MS,\n",
    "                                         'testing',\n",
    "                                         sess)\n",
    "      flattened_data = np.array(data.flatten(), dtype=np.float32).reshape(1, 1960)\n",
    "      yield [flattened_data]\n",
    "  converter.representative_dataset = representative_dataset_gen\n",
    "  tflite_model = converter.convert()\n",
    "  tflite_model_size = open(MODEL_TFLITE, \"wb\").write(tflite_model)\n",
    "  print(\"Quantized model is %d bytes\" % tflite_model_size)"
   ]
  },
  {
   "cell_type": "code",
   "execution_count": null,
   "metadata": {},
   "outputs": [],
   "source": []
  }
 ],
 "metadata": {
  "kernelspec": {
   "display_name": "saad3.6",
   "language": "python",
   "name": "saad3.6"
  },
  "language_info": {
   "codemirror_mode": {
    "name": "ipython",
    "version": 3
   },
   "file_extension": ".py",
   "mimetype": "text/x-python",
   "name": "python",
   "nbconvert_exporter": "python",
   "pygments_lexer": "ipython3",
   "version": "3.6.9"
  }
 },
 "nbformat": 4,
 "nbformat_minor": 2
}
