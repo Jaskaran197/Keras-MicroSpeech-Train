{
 "cells": [
  {
   "cell_type": "code",
   "execution_count": 2,
   "metadata": {},
   "outputs": [],
   "source": [
    "import os\n",
    "import pathlib\n",
    "\n",
    "import matplotlib.pyplot as plt\n",
    "import numpy as np\n",
    "import seaborn as sns\n",
    "import tensorflow as tf\n",
    "\n",
    "from tensorflow.keras.layers.experimental import preprocessing\n",
    "from tensorflow.keras import layers\n",
    "from tensorflow.keras import models\n",
    "from IPython import display\n",
    "\n",
    "\n",
    "# Set seed for experiment reproducibility\n",
    "seed = 42\n",
    "tf.random.set_seed(seed)\n",
    "np.random.seed(seed)"
   ]
  },
  {
   "cell_type": "code",
   "execution_count": null,
   "metadata": {},
   "outputs": [],
   "source": []
  },
  {
   "cell_type": "code",
   "execution_count": 3,
   "metadata": {},
   "outputs": [],
   "source": [
    "from __future__ import absolute_import\n",
    "from __future__ import division\n",
    "from __future__ import print_function\n",
    "\n",
    "import hashlib\n",
    "import math\n",
    "import os.path\n",
    "import random\n",
    "import re\n",
    "import sys\n",
    "import tarfile\n",
    "\n",
    "import numpy as np\n",
    "from six.moves import urllib\n",
    "from six.moves import xrange  # pylint: disable=redefined-builtin\n",
    "import tensorflow as tf\n",
    "\n",
    "from tensorflow.python.ops import gen_audio_ops as audio_ops\n",
    "from tensorflow.python.ops import io_ops\n",
    "from tensorflow.python.platform import gfile\n",
    "from tensorflow.python.util import compat\n",
    "\n"
   ]
  },
  {
   "cell_type": "code",
   "execution_count": 4,
   "metadata": {},
   "outputs": [],
   "source": [
    "# work, try building with bazel instead of running the Python script directly.\n",
    "try:\n",
    "  from tensorflow.lite.experimental.microfrontend.python.ops import audio_microfrontend_op as frontend_op  # pylint:disable=g-import-not-at-top\n",
    "except ImportError:\n",
    "  frontend_op = None"
   ]
  },
  {
   "cell_type": "code",
   "execution_count": 5,
   "metadata": {},
   "outputs": [],
   "source": [
    "import sys\n",
    "# We add this path so we can import the speech processing modules\n",
    "import input_data\n",
    "import models\n",
    "import numpy as np"
   ]
  },
  {
   "cell_type": "code",
   "execution_count": 6,
   "metadata": {},
   "outputs": [],
   "source": [
    "WANTED_WORDS = \"one,two,three,four\"\n",
    "DATASET_DIR = './dataset'\n",
    "PREPROCESS = 'micro'\n",
    "WINDOW_STRIDE = 20\n",
    "SAMPLE_RATE = 16000\n",
    "CLIP_DURATION_MS = 1000\n",
    "WINDOW_SIZE_MS = 40.0\n",
    "FEATURE_BIN_COUNT = 40\n",
    "BACKGROUND_FREQUENCY = 0.8\n",
    "BACKGROUND_VOLUME_RANGE = 0.1\n",
    "TIME_SHIFT_MS = 100.0\n",
    "SILENT_PERCENTAGE =10\n",
    "UNKNOWN_PERCENTAGE =25\n",
    "DATA_URL = 'https://storage.googleapis.com/download.tensorflow.org/data/speech_commands_v0.02.tar.gz'\n",
    "VALIDATION_PERCENTAGE = 10\n",
    "TESTING_PERCENTAGE = 10\n",
    "LOGS_DIR = './logs'"
   ]
  },
  {
   "cell_type": "code",
   "execution_count": 7,
   "metadata": {},
   "outputs": [],
   "source": [
    "!rm -rf ./logs"
   ]
  },
  {
   "cell_type": "code",
   "execution_count": 8,
   "metadata": {},
   "outputs": [],
   "source": [
    "model_settings = models.prepare_model_settings(\n",
    "    len(input_data.prepare_words_list(WANTED_WORDS.split(','))),\n",
    "    SAMPLE_RATE, CLIP_DURATION_MS, WINDOW_SIZE_MS,\n",
    "    WINDOW_STRIDE, FEATURE_BIN_COUNT, PREPROCESS)\n",
    "audio_processor = input_data.AudioProcessor(\n",
    "    DATA_URL, DATASET_DIR,\n",
    "    SILENT_PERCENTAGE, UNKNOWN_PERCENTAGE,\n",
    "    WANTED_WORDS.split(','), VALIDATION_PERCENTAGE,\n",
    "    TESTING_PERCENTAGE, model_settings, LOGS_DIR)"
   ]
  },
  {
   "cell_type": "code",
   "execution_count": 9,
   "metadata": {},
   "outputs": [],
   "source": [
    "with tf.compat.v1.Session() as sess:\n",
    "    train_fingerprints, train_ground_truth = audio_processor.get_data(-1,0, model_settings,BACKGROUND_FREQUENCY, BACKGROUND_VOLUME_RANGE,\n",
    "        TIME_SHIFT_MS, 'training', sess)"
   ]
  },
  {
   "cell_type": "code",
   "execution_count": 10,
   "metadata": {},
   "outputs": [],
   "source": [
    "with tf.compat.v1.Session() as sess:\n",
    "    val_fingerprints, val_ground_truth = audio_processor.get_data(-1,0, model_settings,BACKGROUND_FREQUENCY, BACKGROUND_VOLUME_RANGE,\n",
    "        TIME_SHIFT_MS, 'validation', sess)"
   ]
  },
  {
   "cell_type": "code",
   "execution_count": 11,
   "metadata": {},
   "outputs": [],
   "source": [
    "with tf.compat.v1.Session() as sess:\n",
    "    test_fingerprints, test_ground_truth = audio_processor.get_data(-1,0, model_settings,BACKGROUND_FREQUENCY, BACKGROUND_VOLUME_RANGE,\n",
    "        TIME_SHIFT_MS, 'testing', sess)"
   ]
  },
  {
   "cell_type": "code",
   "execution_count": 12,
   "metadata": {},
   "outputs": [],
   "source": [
    "import pickle"
   ]
  },
  {
   "cell_type": "code",
   "execution_count": 13,
   "metadata": {},
   "outputs": [],
   "source": [
    "with open(\"test_data.pkl\",'wb') as file:\n",
    "    pickle.dump(test_fingerprints,file)\n",
    "with open(\"test_labels.pkl\",'wb') as file1:\n",
    "    pickle.dump(test_ground_truth,file1)"
   ]
  },
  {
   "cell_type": "code",
   "execution_count": 14,
   "metadata": {},
   "outputs": [],
   "source": [
    "import matplotlib.pyplot as plt"
   ]
  },
  {
   "cell_type": "code",
   "execution_count": 15,
   "metadata": {},
   "outputs": [
    {
     "data": {
      "text/plain": [
       "'one,two,three,four'"
      ]
     },
     "execution_count": 15,
     "metadata": {},
     "output_type": "execute_result"
    }
   ],
   "source": [
    "WANTED_WORDS"
   ]
  },
  {
   "cell_type": "code",
   "execution_count": 16,
   "metadata": {},
   "outputs": [],
   "source": [
    "labels  = ['silence','unknown']+WANTED_WORDS.split(',')"
   ]
  },
  {
   "cell_type": "code",
   "execution_count": null,
   "metadata": {},
   "outputs": [],
   "source": []
  },
  {
   "cell_type": "code",
   "execution_count": 17,
   "metadata": {},
   "outputs": [
    {
     "name": "stdout",
     "output_type": "stream",
     "text": [
      "['silence', 'unknown', 'one', 'two', 'three', 'four']\n"
     ]
    }
   ],
   "source": [
    "print(labels)"
   ]
  },
  {
   "cell_type": "code",
   "execution_count": null,
   "metadata": {},
   "outputs": [],
   "source": []
  },
  {
   "cell_type": "code",
   "execution_count": 18,
   "metadata": {},
   "outputs": [],
   "source": [
    "def plots(i):\n",
    "    print(labels[int(train_ground_truth[i])])\n",
    "    plt.imshow(train_fingerprints[i].reshape(49,40).T)"
   ]
  },
  {
   "cell_type": "code",
   "execution_count": 19,
   "metadata": {},
   "outputs": [
    {
     "name": "stdout",
     "output_type": "stream",
     "text": [
      "unknown\n"
     ]
    },
    {
     "data": {
      "image/png": "[encoded data removed]",
      "text/plain": [
       "<Figure size 432x288 with 1 Axes>"
      ]
     },
     "metadata": {
      "needs_background": "light"
     },
     "output_type": "display_data"
    }
   ],
   "source": [
    "plots(1918)"
   ]
  },
  {
   "cell_type": "code",
   "execution_count": 20,
   "metadata": {},
   "outputs": [
    {
     "name": "stdout",
     "output_type": "stream",
     "text": [
      "silence\n"
     ]
    },
    {
     "data": {
      "image/png": "[encoded data removed]",
      "text/plain": [
       "<Figure size 432x288 with 1 Axes>"
      ]
     },
     "metadata": {
      "needs_background": "light"
     },
     "output_type": "display_data"
    }
   ],
   "source": [
    "plots(687)"
   ]
  },
  {
   "cell_type": "code",
   "execution_count": 21,
   "metadata": {},
   "outputs": [
    {
     "data": {
      "text/plain": [
       "'one,two,three,four'"
      ]
     },
     "execution_count": 21,
     "metadata": {},
     "output_type": "execute_result"
    }
   ],
   "source": [
    "WANTED_WORDS"
   ]
  },
  {
   "cell_type": "code",
   "execution_count": 22,
   "metadata": {},
   "outputs": [
    {
     "name": "stdout",
     "output_type": "stream",
     "text": [
      "four\n"
     ]
    },
    {
     "data": {
      "image/png": "[encoded data removed]",
      "text/plain": [
       "<Figure size 432x288 with 1 Axes>"
      ]
     },
     "metadata": {
      "needs_background": "light"
     },
     "output_type": "display_data"
    }
   ],
   "source": [
    "plots(7004)"
   ]
  },
  {
   "cell_type": "code",
   "execution_count": 23,
   "metadata": {},
   "outputs": [
    {
     "data": {
      "text/plain": [
       "array([[24.53125  , 24.140625 , 25.9375   , ..., 23.2421875, 24.921875 ,\n",
       "        23.90625  ],\n",
       "       [25.46875  , 23.2421875, 24.6484375, ..., 22.1484375, 23.8671875,\n",
       "        21.7578125],\n",
       "       [24.8046875, 22.109375 , 22.6171875, ..., 20.1171875, 23.671875 ,\n",
       "        21.40625  ],\n",
       "       ...,\n",
       "       [ 0.       ,  0.       ,  0.       , ...,  0.       ,  0.       ,\n",
       "         0.       ],\n",
       "       [ 0.       ,  0.       ,  0.       , ...,  0.       ,  0.       ,\n",
       "         0.       ],\n",
       "       [ 0.       ,  0.       ,  0.       , ...,  0.       ,  0.       ,\n",
       "         0.       ]])"
      ]
     },
     "execution_count": 23,
     "metadata": {},
     "output_type": "execute_result"
    }
   ],
   "source": [
    "train_fingerprints[0].reshape(49,40)"
   ]
  },
  {
   "cell_type": "code",
   "execution_count": 24,
   "metadata": {},
   "outputs": [
    {
     "data": {
      "text/plain": [
       "array([1., 5., 0., ..., 5., 2., 1.])"
      ]
     },
     "execution_count": 24,
     "metadata": {},
     "output_type": "execute_result"
    }
   ],
   "source": [
    "train_ground_truth"
   ]
  },
  {
   "cell_type": "code",
   "execution_count": 25,
   "metadata": {},
   "outputs": [],
   "source": [
    "\n",
    "from tensorflow.keras.layers.experimental import preprocessing"
   ]
  },
  {
   "cell_type": "code",
   "execution_count": 26,
   "metadata": {},
   "outputs": [],
   "source": [
    "from tensorflow.keras import models as mod"
   ]
  },
  {
   "cell_type": "code",
   "execution_count": 27,
   "metadata": {},
   "outputs": [],
   "source": [
    "from tensorflow.keras import layers"
   ]
  },
  {
   "cell_type": "code",
   "execution_count": null,
   "metadata": {},
   "outputs": [],
   "source": []
  },
  {
   "cell_type": "code",
   "execution_count": 28,
   "metadata": {},
   "outputs": [],
   "source": [
    "import numpy as np"
   ]
  },
  {
   "cell_type": "code",
   "execution_count": 29,
   "metadata": {},
   "outputs": [
    {
     "ename": "NameError",
     "evalue": "name 'DepthwiseConv2D' is not defined",
     "output_type": "error",
     "traceback": [
      "\u001b[0;31m---------------------------------------------------------------------------\u001b[0m",
      "\u001b[0;31mNameError\u001b[0m                                 Traceback (most recent call last)",
      "\u001b[0;32m<ipython-input-29-8cfc459d8b09>\u001b[0m in \u001b[0;36m<module>\u001b[0;34m\u001b[0m\n\u001b[0;32m----> 1\u001b[0;31m DepthwiseConv2D(\n\u001b[0m\u001b[1;32m      2\u001b[0m     \u001b[0mkernel_size\u001b[0m\u001b[0;34m,\u001b[0m \u001b[0mstrides\u001b[0m\u001b[0;34m=\u001b[0m\u001b[0;34m(\u001b[0m\u001b[0;36m1\u001b[0m\u001b[0;34m,\u001b[0m \u001b[0;36m1\u001b[0m\u001b[0;34m)\u001b[0m\u001b[0;34m,\u001b[0m \u001b[0mpadding\u001b[0m\u001b[0;34m=\u001b[0m\u001b[0;34m'valid'\u001b[0m\u001b[0;34m,\u001b[0m \u001b[0mdepth_multiplier\u001b[0m\u001b[0;34m=\u001b[0m\u001b[0;36m1\u001b[0m\u001b[0;34m,\u001b[0m\u001b[0;34m\u001b[0m\u001b[0;34m\u001b[0m\u001b[0m\n\u001b[1;32m      3\u001b[0m     \u001b[0mdata_format\u001b[0m\u001b[0;34m=\u001b[0m\u001b[0;32mNone\u001b[0m\u001b[0;34m,\u001b[0m \u001b[0mdilation_rate\u001b[0m\u001b[0;34m=\u001b[0m\u001b[0;34m(\u001b[0m\u001b[0;36m1\u001b[0m\u001b[0;34m,\u001b[0m \u001b[0;36m1\u001b[0m\u001b[0;34m)\u001b[0m\u001b[0;34m,\u001b[0m \u001b[0mactivation\u001b[0m\u001b[0;34m=\u001b[0m\u001b[0;32mNone\u001b[0m\u001b[0;34m,\u001b[0m \u001b[0muse_bias\u001b[0m\u001b[0;34m=\u001b[0m\u001b[0;32mTrue\u001b[0m\u001b[0;34m,\u001b[0m\u001b[0;34m\u001b[0m\u001b[0;34m\u001b[0m\u001b[0m\n\u001b[1;32m      4\u001b[0m     \u001b[0mdepthwise_initializer\u001b[0m\u001b[0;34m=\u001b[0m\u001b[0;34m'glorot_uniform'\u001b[0m\u001b[0;34m,\u001b[0m\u001b[0;34m\u001b[0m\u001b[0;34m\u001b[0m\u001b[0m\n\u001b[1;32m      5\u001b[0m     \u001b[0mbias_initializer\u001b[0m\u001b[0;34m=\u001b[0m\u001b[0;34m'zeros'\u001b[0m\u001b[0;34m,\u001b[0m \u001b[0mdepthwise_regularizer\u001b[0m\u001b[0;34m=\u001b[0m\u001b[0;32mNone\u001b[0m\u001b[0;34m,\u001b[0m\u001b[0;34m\u001b[0m\u001b[0;34m\u001b[0m\u001b[0m\n",
      "\u001b[0;31mNameError\u001b[0m: name 'DepthwiseConv2D' is not defined"
     ]
    }
   ],
   "source": [
    "DepthwiseConv2D(\n",
    "    kernel_size, strides=(1, 1), padding='valid', depth_multiplier=1,\n",
    "    data_format=None, dilation_rate=(1, 1), activation=None, use_bias=True,\n",
    "    depthwise_initializer='glorot_uniform',\n",
    "    bias_initializer='zeros', depthwise_regularizer=None,\n",
    "    bias_regularizer=None, activity_regularizer=None, depthwise_constraint=None,\n",
    "    bias_constraint=None, **kwargs\n",
    ")"
   ]
  },
  {
   "cell_type": "code",
   "execution_count": null,
   "metadata": {},
   "outputs": [],
   "source": [
    "labels"
   ]
  },
  {
   "cell_type": "code",
   "execution_count": 30,
   "metadata": {},
   "outputs": [
    {
     "name": "stdout",
     "output_type": "stream",
     "text": [
      "Model: \"sequential\"\n",
      "_________________________________________________________________\n",
      "Layer (type)                 Output Shape              Param #   \n",
      "=================================================================\n",
      "reshape (Reshape)            (None, 49, 40, 1)         0         \n",
      "_________________________________________________________________\n",
      "depthwise_conv2d (DepthwiseC (None, 20, 17, 8)         648       \n",
      "_________________________________________________________________\n",
      "dropout (Dropout)            (None, 20, 17, 8)         0         \n",
      "_________________________________________________________________\n",
      "max_pooling2d (MaxPooling2D) (None, 10, 8, 8)          0         \n",
      "_________________________________________________________________\n",
      "dropout_1 (Dropout)          (None, 10, 8, 8)          0         \n",
      "_________________________________________________________________\n",
      "flatten (Flatten)            (None, 640)               0         \n",
      "_________________________________________________________________\n",
      "dense (Dense)                (None, 256)               164096    \n",
      "_________________________________________________________________\n",
      "dense_1 (Dense)              (None, 6)                 1542      \n",
      "=================================================================\n",
      "Total params: 166,286\n",
      "Trainable params: 166,286\n",
      "Non-trainable params: 0\n",
      "_________________________________________________________________\n"
     ]
    }
   ],
   "source": [
    "model = tf.keras.Sequential()\n",
    "model.add(layers.Input(shape=(1960)))\n",
    "model.add(layers.Reshape((49, 40,1)))\n",
    "model.add(layers.DepthwiseConv2D(kernel_size=(10,8),strides=(2,2),padding='valid',depth_multiplier=8,activation='relu')) \n",
    "\n",
    "\n",
    "model.add(layers.Dropout(0.10))\n",
    "model.add(layers.MaxPool2D(pool_size=(2, 2), strides=None, padding=\"valid\"))\n",
    "#model.add(layers.Conv2D(4, kernel_size=(5,4), activation='relu')) \n",
    "#model.add(layers.MaxPool2D())\n",
    "model.add(layers.Dropout(0.10))\n",
    "model.add(layers.Flatten()),\n",
    "model.add(layers.Dense(256, activation='relu')),\n",
    "model.add(layers.Dense(len(labels), activation='softmax'))\n",
    "\n",
    "model.compile(\n",
    "    optimizer=tf.keras.optimizers.SGD(),\n",
    "    loss=tf.keras.losses.SparseCategoricalCrossentropy(from_logits=True),\n",
    "    metrics=['accuracy'],\n",
    ")\n",
    "\n",
    "model.summary()"
   ]
  },
  {
   "cell_type": "code",
   "execution_count": null,
   "metadata": {},
   "outputs": [
    {
     "name": "stdout",
     "output_type": "stream",
     "text": [
      "Train on 16433 samples, validate on 1925 samples\n",
      "Epoch 1/100\n",
      "16416/16433 [============================>.] - ETA: 0s - loss: 1.8512 - accuracy: 0.1917WARNING:tensorflow:From /home/aml/anaconda3/envs/saad3.6/lib/python3.6/site-packages/tensorflow/python/keras/engine/training_v1.py:2048: Model.state_updates (from tensorflow.python.keras.engine.training) is deprecated and will be removed in a future version.\n",
      "Instructions for updating:\n",
      "This property should not be used in TensorFlow 2.0, as updates are applied automatically.\n",
      "16433/16433 [==============================] - 7s 418us/sample - loss: 1.8512 - accuracy: 0.1917 - val_loss: 1.8597 - val_accuracy: 0.1823\n",
      "Epoch 2/100\n",
      "16433/16433 [==============================] - 7s 419us/sample - loss: 1.8475 - accuracy: 0.1942 - val_loss: 1.8566 - val_accuracy: 0.1865\n",
      "Epoch 3/100\n",
      "16433/16433 [==============================] - 7s 419us/sample - loss: 1.8129 - accuracy: 0.2202 - val_loss: 1.6537 - val_accuracy: 0.3787\n",
      "Epoch 4/100\n",
      "16433/16433 [==============================] - 7s 413us/sample - loss: 1.5485 - accuracy: 0.4864 - val_loss: 1.3916 - val_accuracy: 0.6540\n",
      "Epoch 5/100\n",
      "16433/16433 [==============================] - 7s 416us/sample - loss: 1.4019 - accuracy: 0.6390 - val_loss: 1.3416 - val_accuracy: 0.6971\n",
      "Epoch 6/100\n",
      "16433/16433 [==============================] - 7s 414us/sample - loss: 1.3623 - accuracy: 0.6785 - val_loss: 1.3071 - val_accuracy: 0.7345\n",
      "Epoch 7/100\n",
      "16433/16433 [==============================] - 7s 414us/sample - loss: 1.3363 - accuracy: 0.7056 - val_loss: 1.2981 - val_accuracy: 0.7449\n",
      "Epoch 8/100\n",
      "16433/16433 [==============================] - 7s 414us/sample - loss: 1.3226 - accuracy: 0.7186 - val_loss: 1.2889 - val_accuracy: 0.7517\n",
      "Epoch 9/100\n",
      "16433/16433 [==============================] - 7s 414us/sample - loss: 1.3105 - accuracy: 0.7323 - val_loss: 1.2861 - val_accuracy: 0.7558\n",
      "Epoch 10/100\n",
      "16433/16433 [==============================] - 7s 413us/sample - loss: 1.2988 - accuracy: 0.7424 - val_loss: 1.2972 - val_accuracy: 0.7439\n",
      "Epoch 11/100\n",
      "16433/16433 [==============================] - 7s 411us/sample - loss: 1.2895 - accuracy: 0.7518 - val_loss: 1.2691 - val_accuracy: 0.7725\n",
      "Epoch 12/100\n",
      "16433/16433 [==============================] - 7s 413us/sample - loss: 1.2827 - accuracy: 0.7600 - val_loss: 1.2593 - val_accuracy: 0.7855\n",
      "Epoch 13/100\n",
      "16433/16433 [==============================] - 7s 413us/sample - loss: 1.2740 - accuracy: 0.7684 - val_loss: 1.2569 - val_accuracy: 0.7839\n",
      "Epoch 14/100\n",
      "16433/16433 [==============================] - 7s 415us/sample - loss: 1.2636 - accuracy: 0.7791 - val_loss: 1.2486 - val_accuracy: 0.7922\n",
      "Epoch 15/100\n",
      "16433/16433 [==============================] - 7s 417us/sample - loss: 1.2621 - accuracy: 0.7814 - val_loss: 1.2443 - val_accuracy: 0.7948\n",
      "Epoch 16/100\n",
      "16433/16433 [==============================] - 7s 409us/sample - loss: 1.2545 - accuracy: 0.7883 - val_loss: 1.2483 - val_accuracy: 0.7964\n",
      "Epoch 17/100\n",
      "16433/16433 [==============================] - 7s 413us/sample - loss: 1.2529 - accuracy: 0.7899 - val_loss: 1.2367 - val_accuracy: 0.8052\n",
      "Epoch 18/100\n",
      "16433/16433 [==============================] - 7s 414us/sample - loss: 1.2458 - accuracy: 0.7957 - val_loss: 1.2326 - val_accuracy: 0.8083\n",
      "Epoch 19/100\n",
      "16433/16433 [==============================] - 7s 415us/sample - loss: 1.2405 - accuracy: 0.8018 - val_loss: 1.2336 - val_accuracy: 0.8094\n",
      "Epoch 20/100\n",
      "16433/16433 [==============================] - 7s 411us/sample - loss: 1.2367 - accuracy: 0.8062 - val_loss: 1.2300 - val_accuracy: 0.8135\n",
      "Epoch 21/100\n",
      "16433/16433 [==============================] - 7s 413us/sample - loss: 1.2319 - accuracy: 0.8114 - val_loss: 1.2278 - val_accuracy: 0.8151\n",
      "Epoch 22/100\n",
      "16433/16433 [==============================] - 7s 413us/sample - loss: 1.2288 - accuracy: 0.8141 - val_loss: 1.2210 - val_accuracy: 0.8177\n",
      "Epoch 23/100\n",
      "16433/16433 [==============================] - 7s 413us/sample - loss: 1.2242 - accuracy: 0.8191 - val_loss: 1.2204 - val_accuracy: 0.8218\n",
      "Epoch 24/100\n",
      "16433/16433 [==============================] - 7s 412us/sample - loss: 1.2220 - accuracy: 0.8208 - val_loss: 1.2250 - val_accuracy: 0.8161\n",
      "Epoch 25/100\n",
      "16433/16433 [==============================] - 7s 415us/sample - loss: 1.2175 - accuracy: 0.8253 - val_loss: 1.2230 - val_accuracy: 0.8171\n",
      "Epoch 26/100\n",
      "16433/16433 [==============================] - 7s 412us/sample - loss: 1.2144 - accuracy: 0.8298 - val_loss: 1.2176 - val_accuracy: 0.8223\n",
      "Epoch 27/100\n",
      "16433/16433 [==============================] - 7s 415us/sample - loss: 1.2090 - accuracy: 0.8345 - val_loss: 1.2202 - val_accuracy: 0.8234\n",
      "Epoch 28/100\n",
      "16433/16433 [==============================] - 7s 410us/sample - loss: 1.2075 - accuracy: 0.8359 - val_loss: 1.2194 - val_accuracy: 0.8213\n",
      "Epoch 29/100\n",
      "16433/16433 [==============================] - 7s 416us/sample - loss: 1.2075 - accuracy: 0.8355 - val_loss: 1.2153 - val_accuracy: 0.8255\n",
      "Epoch 30/100\n",
      "16433/16433 [==============================] - 7s 407us/sample - loss: 1.1998 - accuracy: 0.8436 - val_loss: 1.2139 - val_accuracy: 0.8260\n",
      "Epoch 31/100\n",
      "16433/16433 [==============================] - 7s 411us/sample - loss: 1.2022 - accuracy: 0.8401 - val_loss: 1.2169 - val_accuracy: 0.8255\n",
      "Epoch 32/100\n",
      "16433/16433 [==============================] - 7s 409us/sample - loss: 1.1958 - accuracy: 0.8479 - val_loss: 1.2072 - val_accuracy: 0.8358\n",
      "Epoch 33/100\n",
      "16433/16433 [==============================] - 7s 412us/sample - loss: 1.1952 - accuracy: 0.8488 - val_loss: 1.2209 - val_accuracy: 0.8218\n",
      "Epoch 34/100\n",
      "16433/16433 [==============================] - 7s 413us/sample - loss: 1.1905 - accuracy: 0.8537 - val_loss: 1.2057 - val_accuracy: 0.8353\n",
      "Epoch 35/100\n",
      "16433/16433 [==============================] - 7s 412us/sample - loss: 1.1913 - accuracy: 0.8520 - val_loss: 1.2042 - val_accuracy: 0.8358\n",
      "Epoch 36/100\n",
      "16433/16433 [==============================] - 7s 409us/sample - loss: 1.1880 - accuracy: 0.8573 - val_loss: 1.2112 - val_accuracy: 0.8317\n",
      "Epoch 37/100\n",
      "16433/16433 [==============================] - 7s 411us/sample - loss: 1.1874 - accuracy: 0.8568 - val_loss: 1.2060 - val_accuracy: 0.8317\n",
      "Epoch 38/100\n",
      "16433/16433 [==============================] - 7s 413us/sample - loss: 1.1846 - accuracy: 0.8588 - val_loss: 1.2049 - val_accuracy: 0.8379\n",
      "Epoch 39/100\n",
      "16433/16433 [==============================] - 7s 414us/sample - loss: 1.1832 - accuracy: 0.8602 - val_loss: 1.2046 - val_accuracy: 0.8327\n",
      "Epoch 40/100\n",
      "16433/16433 [==============================] - 7s 412us/sample - loss: 1.1804 - accuracy: 0.8644 - val_loss: 1.2093 - val_accuracy: 0.8317\n",
      "Epoch 41/100\n",
      "16433/16433 [==============================] - 7s 413us/sample - loss: 1.1797 - accuracy: 0.8647 - val_loss: 1.2063 - val_accuracy: 0.8358\n",
      "Epoch 42/100\n",
      "16433/16433 [==============================] - 7s 414us/sample - loss: 1.1803 - accuracy: 0.8642 - val_loss: 1.2116 - val_accuracy: 0.8275\n",
      "Epoch 43/100\n",
      "16433/16433 [==============================] - 7s 413us/sample - loss: 1.1759 - accuracy: 0.8680 - val_loss: 1.2066 - val_accuracy: 0.8384\n",
      "Epoch 44/100\n",
      "16433/16433 [==============================] - 7s 413us/sample - loss: 1.1746 - accuracy: 0.8697 - val_loss: 1.2074 - val_accuracy: 0.8364\n",
      "Epoch 45/100\n",
      "16433/16433 [==============================] - 7s 413us/sample - loss: 1.1734 - accuracy: 0.8705 - val_loss: 1.2057 - val_accuracy: 0.8353\n",
      "Epoch 46/100\n",
      "16433/16433 [==============================] - 7s 413us/sample - loss: 1.1723 - accuracy: 0.8718 - val_loss: 1.2030 - val_accuracy: 0.8384\n",
      "Epoch 47/100\n",
      "16433/16433 [==============================] - 7s 413us/sample - loss: 1.1663 - accuracy: 0.8779 - val_loss: 1.2050 - val_accuracy: 0.8343\n",
      "Epoch 48/100\n",
      "16433/16433 [==============================] - 7s 414us/sample - loss: 1.1670 - accuracy: 0.8774 - val_loss: 1.1991 - val_accuracy: 0.8447\n",
      "Epoch 49/100\n",
      "16433/16433 [==============================] - 7s 415us/sample - loss: 1.1663 - accuracy: 0.8777 - val_loss: 1.2074 - val_accuracy: 0.8348\n",
      "Epoch 50/100\n",
      "16433/16433 [==============================] - 7s 417us/sample - loss: 1.1649 - accuracy: 0.8787 - val_loss: 1.2033 - val_accuracy: 0.8374\n",
      "Epoch 51/100\n"
     ]
    },
    {
     "name": "stdout",
     "output_type": "stream",
     "text": [
      "16433/16433 [==============================] - 7s 418us/sample - loss: 1.1611 - accuracy: 0.8836 - val_loss: 1.2009 - val_accuracy: 0.8416\n",
      "Epoch 52/100\n",
      "16433/16433 [==============================] - 7s 422us/sample - loss: 1.1611 - accuracy: 0.8835 - val_loss: 1.1987 - val_accuracy: 0.8442\n",
      "Epoch 53/100\n",
      "16433/16433 [==============================] - 7s 417us/sample - loss: 1.1595 - accuracy: 0.8843 - val_loss: 1.2107 - val_accuracy: 0.8312\n",
      "Epoch 54/100\n",
      "16433/16433 [==============================] - 7s 416us/sample - loss: 1.1591 - accuracy: 0.8853 - val_loss: 1.2022 - val_accuracy: 0.8400\n",
      "Epoch 55/100\n",
      "16433/16433 [==============================] - 7s 415us/sample - loss: 1.1575 - accuracy: 0.8868 - val_loss: 1.2016 - val_accuracy: 0.8379\n",
      "Epoch 56/100\n",
      "16433/16433 [==============================] - 7s 414us/sample - loss: 1.1550 - accuracy: 0.8896 - val_loss: 1.1962 - val_accuracy: 0.8462\n",
      "Epoch 57/100\n",
      " 8608/16433 [==============>...............] - ETA: 3s - loss: 1.1559 - accuracy: 0.8880"
     ]
    }
   ],
   "source": [
    "EPOCHS = 100\n",
    "history = model.fit(\n",
    "    train_fingerprints, \n",
    "  train_ground_truth,\n",
    "    validation_data=(val_fingerprints,val_ground_truth),\n",
    "    epochs=EPOCHS,\n",
    ")"
   ]
  },
  {
   "cell_type": "code",
   "execution_count": null,
   "metadata": {},
   "outputs": [],
   "source": [
    "metrics = history.history\n",
    "plt.plot(history.epoch, metrics['loss'], metrics['val_accuracy'])\n",
    "plt.legend(['loss', 'accuracy'])\n",
    "plt.show()"
   ]
  },
  {
   "cell_type": "code",
   "execution_count": null,
   "metadata": {},
   "outputs": [],
   "source": [
    "EPOCHS = 100\n",
    "history = model.fit(\n",
    "    train_fingerprints, \n",
    "  train_ground_truth,\n",
    "    validation_data=(val_fingerprints,val_ground_truth),\n",
    "    epochs=EPOCHS,\n",
    ")"
   ]
  },
  {
   "cell_type": "code",
   "execution_count": null,
   "metadata": {},
   "outputs": [],
   "source": [
    "EPOCHS = 100\n",
    "history = model.fit(\n",
    "    train2, \n",
    "  labels2,\n",
    "    validation_data=(valdata,vallabels),\n",
    "    epochs=EPOCHS,\n",
    ")"
   ]
  },
  {
   "cell_type": "code",
   "execution_count": null,
   "metadata": {},
   "outputs": [],
   "source": [
    "model.save(\"my_h5_model1.h5\")"
   ]
  },
  {
   "cell_type": "code",
   "execution_count": null,
   "metadata": {},
   "outputs": [],
   "source": [
    "EPOCHS = 10\n",
    "history = model.fit(\n",
    "    train2, \n",
    "  labels2,\n",
    "    validation_data=(valdata,vallabels),\n",
    "    epochs=EPOCHS,\n",
    ")"
   ]
  },
  {
   "cell_type": "code",
   "execution_count": null,
   "metadata": {},
   "outputs": [],
   "source": [
    "test_ground_truth"
   ]
  },
  {
   "cell_type": "markdown",
   "metadata": {},
   "source": []
  },
  {
   "cell_type": "code",
   "execution_count": null,
   "metadata": {},
   "outputs": [],
   "source": []
  },
  {
   "cell_type": "code",
   "execution_count": null,
   "metadata": {},
   "outputs": [],
   "source": [
    "metrics = history.history\n",
    "plt.plot(history.epoch, metrics['loss'], metrics['val_loss'])\n",
    "plt.legend(['loss', 'val_loss'])\n",
    "plt.show()"
   ]
  },
  {
   "cell_type": "code",
   "execution_count": null,
   "metadata": {},
   "outputs": [],
   "source": [
    "model.save(\"my_h5_model_snor.h5\")"
   ]
  },
  {
   "cell_type": "code",
   "execution_count": null,
   "metadata": {},
   "outputs": [],
   "source": [
    "#df = np.expand_dims(test_fingerprints,axis=2)\n",
    "y_pred = np.argmax(model.predict(test_fingerprints), axis=1)\n",
    "y_true = test_ground_truth\n",
    "test_acc = sum(y_pred == y_true) / len(y_true)\n",
    "print(f'Test set accuracy: {test_acc:.0%}')\n",
    "confusion_mtx = tf.math.confusion_matrix(y_true, y_pred) \n",
    "with tf.compat.v1.Session():\n",
    "      print('Confusion Matrix: \\n\\n', tf.Tensor.eval(confusion_mtx,feed_dict=None, session=None))\n",
    "    "
   ]
  },
  {
   "cell_type": "code",
   "execution_count": null,
   "metadata": {},
   "outputs": [],
   "source": [
    "converter = tf.lite.TFLiteConverter.from_keras_model(model)\n",
    "tflite_model = converter.convert()\n",
    "\n",
    "# Save the model.\n",
    "with open('model.tflite', 'wb') as f:\n",
    "  f.write(tflite_model)"
   ]
  },
  {
   "cell_type": "code",
   "execution_count": null,
   "metadata": {},
   "outputs": [],
   "source": [
    "train = tf.data.Dataset.from_tensor_slices((train2,labels2))"
   ]
  },
  {
   "cell_type": "code",
   "execution_count": null,
   "metadata": {},
   "outputs": [],
   "source": [
    "test = tf.data.Dataset.from_tensor_slices((te))"
   ]
  },
  {
   "cell_type": "code",
   "execution_count": null,
   "metadata": {},
   "outputs": [],
   "source": [
    "model = tf.keras.Sequential()\n",
    "model.add(layers.Reshape((49, 40,1), input_shape=train2.shape[1:]))\n",
    "model.add(layers.Conv2D(128,3, activation='relu', input_shape=train2.shape[1:])) \n",
    "model.add(layers.Dropout(0.25))\n",
    "model.add(layers.MaxPool2D())\n",
    "model.add(layers.Conv2D(32, kernel_size=(3,3), activation='relu')) \n",
    "model.add(layers.Flatten()),\n",
    "model.add(layers.Dense(128, activation='relu')),\n",
    "model.add(layers.Dropout(0.5)),\n",
    "model.add(layers.Dense(4, activation='softmax'))\n",
    "model.compile(\n",
    "    optimizer=tf.keras.optimizers.SGD(),\n",
    "    loss=tf.keras.losses.SparseCategoricalCrossentropy(from_logits=True),\n",
    "    metrics=['accuracy'],\n",
    ")\n",
    "model.summary()\n",
    "EPOCHS = 10\n",
    "history = model.fit(\n",
    "    train2, \n",
    "  labels2,\n",
    "    epochs=EPOCHS,\n",
    ")"
   ]
  },
  {
   "cell_type": "code",
   "execution_count": null,
   "metadata": {},
   "outputs": [],
   "source": [
    "EPOCHS = 100\n",
    "history = model.fit(\n",
    "    train2, \n",
    "  labels2,validation_data=(valdata,vallabels),\n",
    "    epochs=EPOCHS\n",
    ")"
   ]
  },
  {
   "cell_type": "code",
   "execution_count": null,
   "metadata": {},
   "outputs": [],
   "source": [
    "WANTED_WORDS"
   ]
  },
  {
   "cell_type": "code",
   "execution_count": null,
   "metadata": {},
   "outputs": [],
   "source": [
    "with tf.compat.v1.Session() as sess:\n",
    "    val_fingerprints, val_ground_truth = audio_processor.get_data(-1,0, model_settings,BACKGROUND_FREQUENCY, BACKGROUND_VOLUME_RANGE,\n",
    "        TIME_SHIFT_MS, 'validation', sess)"
   ]
  },
  {
   "cell_type": "code",
   "execution_count": null,
   "metadata": {},
   "outputs": [],
   "source": [
    "  with tf.compat.v1.Session() as sess:\n",
    "    test_data, test_labels = audio_processor.get_data(\n",
    "        -1, 0, model_settings, BACKGROUND_FREQUENCY, BACKGROUND_VOLUME_RANGE,\n",
    "        TIME_SHIFT_MS, 'validation', sess)\n",
    "    test_data = np.expand_dims(test_data, axis=2).astype(np.float32)"
   ]
  },
  {
   "cell_type": "code",
   "execution_count": null,
   "metadata": {},
   "outputs": [],
   "source": [
    "train2.shape"
   ]
  },
  {
   "cell_type": "code",
   "execution_count": null,
   "metadata": {},
   "outputs": [],
   "source": [
    "test_data.shape"
   ]
  },
  {
   "cell_type": "code",
   "execution_count": null,
   "metadata": {},
   "outputs": [],
   "source": [
    "labels2.shape"
   ]
  },
  {
   "cell_type": "code",
   "execution_count": null,
   "metadata": {},
   "outputs": [],
   "source": [
    "test_data[0].shape"
   ]
  },
  {
   "cell_type": "code",
   "execution_count": null,
   "metadata": {},
   "outputs": [],
   "source": [
    "df=np.expand_dims(test_data[1],axis=0)"
   ]
  },
  {
   "cell_type": "code",
   "execution_count": null,
   "metadata": {},
   "outputs": [],
   "source": [
    "model.predict(df)"
   ]
  },
  {
   "cell_type": "code",
   "execution_count": null,
   "metadata": {},
   "outputs": [],
   "source": [
    "test_labels[1]"
   ]
  },
  {
   "cell_type": "code",
   "execution_count": null,
   "metadata": {},
   "outputs": [],
   "source": [
    "np.expand_dims(test_data[1],axis=0)\n",
    "y_pred = np.argmax(model.predict(test_data), axis=1)\n",
    "y_true = test_labels\n",
    "\n",
    "test_acc = sum(y_pred == y_true) / len(y_true)\n",
    "print(f'Test set accuracy: {test_acc:.0%}')\n",
    "confusion_mtx = tf.math.confusion_matrix(y_true, y_pred) \n",
    "with tf.compat.v1.Session():\n",
    "   print('Confusion Matrix: \\n\\n', tf.Tensor.eval(confusion_mtx,feed_dict=None, session=None))"
   ]
  },
  {
   "cell_type": "code",
   "execution_count": null,
   "metadata": {},
   "outputs": [],
   "source": [
    "\n",
    "\n"
   ]
  },
  {
   "cell_type": "code",
   "execution_count": null,
   "metadata": {},
   "outputs": [],
   "source": []
  },
  {
   "cell_type": "code",
   "execution_count": null,
   "metadata": {},
   "outputs": [],
   "source": [
    "model.save('kwsm.h5')"
   ]
  },
  {
   "cell_type": "code",
   "execution_count": null,
   "metadata": {},
   "outputs": [],
   "source": [
    "with tf.Session() as sess:\n",
    "  float_converter = tf.lite.TFLiteConverter.from_keras_model(model)\n",
    "  float_tflite_model = float_converter.convert()\n",
    "  float_tflite_model_size = open(FLOAT_MODEL_TFLITE, \"wb\").write(float_tflite_model)\n",
    "  print(\"Float model is %d bytes\" % float_tflite_model_size)\n",
    "\n",
    "  converter = tf.lite.TFLiteConverter.from_saved_model(SAVED_MODEL)\n",
    "  converter.optimizations = [tf.lite.Optimize.DEFAULT]\n",
    "  converter.inference_input_type = tf.lite.constants.INT8\n",
    "  converter.inference_output_type = tf.lite.constants.INT8\n",
    "  def representative_dataset_gen():\n",
    "    for i in range(100):\n",
    "      data, _ = audio_processor.get_data(1, i*1, model_settings,\n",
    "                                         BACKGROUND_FREQUENCY, \n",
    "                                         BACKGROUND_VOLUME_RANGE,\n",
    "                                         TIME_SHIFT_MS,\n",
    "                                         'testing',\n",
    "                                         sess)\n",
    "      flattened_data = np.array(data.flatten(), dtype=np.float32).reshape(1, 1960)\n",
    "      yield [flattened_data]\n",
    "  converter.representative_dataset = representative_dataset_gen\n",
    "  tflite_model = converter.convert()\n",
    "  tflite_model_size = open(MODEL_TFLITE, \"wb\").write(tflite_model)\n",
    "  print(\"Quantized model is %d bytes\" % tflite_model_size)"
   ]
  },
  {
   "cell_type": "code",
   "execution_count": null,
   "metadata": {},
   "outputs": [],
   "source": []
  }
 ],
 "metadata": {
  "kernelspec": {
   "display_name": "saad3.6",
   "language": "python",
   "name": "saad3.6"
  },
  "language_info": {
   "codemirror_mode": {
    "name": "ipython",
    "version": 3
   },
   "file_extension": ".py",
   "mimetype": "text/x-python",
   "name": "python",
   "nbconvert_exporter": "python",
   "pygments_lexer": "ipython3",
   "version": "3.6.9"
  }
 },
 "nbformat": 4,
 "nbformat_minor": 2
}
